{
 "cells": [
  {
   "cell_type": "markdown",
   "id": "9ca60e1b",
   "metadata": {},
   "source": [
    "---\n",
    "---\n",
    "# Previsão do Nível de Satisfação dos Clientes do Santander\n",
    "\n",
    "### _Santander Customer Satisfaction_\n",
    "---\n",
    "---"
   ]
  },
  {
   "cell_type": "markdown",
   "id": "7689a9e5",
   "metadata": {},
   "source": [
    "## Treinamento do Modelo // _Model Training_"
   ]
  },
  {
   "cell_type": "code",
   "execution_count": 1,
   "id": "611fa101",
   "metadata": {},
   "outputs": [
    {
     "name": "stdout",
     "output_type": "stream",
     "text": [
      "Versão da Linguagem Python Usada Neste Jupyter Notebook: 3.9.12\n"
     ]
    }
   ],
   "source": [
    "# Versão da Linguagem Python // Python language version\n",
    "from platform import python_version\n",
    "print('Versão da Linguagem Python Usada Neste Jupyter Notebook:', python_version())"
   ]
  },
  {
   "cell_type": "code",
   "execution_count": 2,
   "id": "4ccfc788",
   "metadata": {},
   "outputs": [],
   "source": [
    "# Imports\n",
    "\n",
    "#! pip install xgboost\n",
    "\n",
    "import joblib\n",
    "import pickle\n",
    "import numpy as np\n",
    "import pandas as pd\n",
    "import seaborn as sns\n",
    "from matplotlib import pyplot as plt\n",
    "from scipy.stats import randint as sp_randint\n",
    "import sklearn\n",
    "#from sklearn.model_selection import train_test_split\n",
    "from sklearn.model_selection import GridSearchCV\n",
    "from sklearn.model_selection import cross_val_score\n",
    "from sklearn.model_selection import RandomizedSearchCV\n",
    "from sklearn.linear_model import LogisticRegression\n",
    "from sklearn.ensemble import RandomForestClassifier\n",
    "from sklearn.tree import DecisionTreeClassifier\n",
    "from sklearn.ensemble import GradientBoostingClassifier\n",
    "from sklearn.ensemble import AdaBoostClassifier\n",
    "from xgboost import XGBClassifier\n",
    "from sklearn.metrics import roc_curve, auc, roc_auc_score, confusion_matrix\n",
    "from sklearn.metrics import accuracy_score\n",
    "\n",
    "from utils import *\n",
    "\n",
    "import warnings\n",
    "warnings.filterwarnings(\"ignore\")\n",
    "\n",
    "np.random.seed(31415)"
   ]
  },
  {
   "cell_type": "code",
   "execution_count": 3,
   "id": "bc4b7193",
   "metadata": {},
   "outputs": [
    {
     "name": "stdout",
     "output_type": "stream",
     "text": [
      "Author: Tatiana Novaes Carvalho\n",
      "\n",
      "matplotlib: 3.5.1\n",
      "seaborn   : 0.11.2\n",
      "joblib    : 1.1.0\n",
      "sklearn   : 1.1.2\n",
      "pandas    : 1.4.2\n",
      "numpy     : 1.22.3\n",
      "\n"
     ]
    }
   ],
   "source": [
    "# Versões dos pacotes usados neste jupyter notebook // Versions of packages used in this jupyter notebook\n",
    "#!pip install -q -U watermark\n",
    "%reload_ext watermark\n",
    "%watermark -a \"Tatiana Novaes Carvalho\" --iversions"
   ]
  },
  {
   "cell_type": "markdown",
   "id": "de17ad32",
   "metadata": {},
   "source": [
    "### Carga dos dados // _Data load_"
   ]
  },
  {
   "cell_type": "code",
   "execution_count": 4,
   "id": "da3db79c",
   "metadata": {},
   "outputs": [],
   "source": [
    "# Carrega os dados // Load the data\n",
    "df_train = pd.read_csv('../datasets/df_train_preprocess.csv',  index_col = 0)\n",
    "df_test = pd.read_csv('../datasets/df_test_preprocess.csv',  index_col = 0)\n",
    "\n",
    "#dic_cut = joblib.load(open('../datasets/dic_cut.pkl', 'rb'))"
   ]
  },
  {
   "cell_type": "code",
   "execution_count": 5,
   "id": "d35d7226",
   "metadata": {},
   "outputs": [
    {
     "name": "stdout",
     "output_type": "stream",
     "text": [
      "(92164, 142)\n",
      "(4095, 142)\n"
     ]
    }
   ],
   "source": [
    "print(df_train.shape)\n",
    "print(df_test.shape)"
   ]
  },
  {
   "cell_type": "code",
   "execution_count": 6,
   "id": "c4f7d0a3",
   "metadata": {},
   "outputs": [
    {
     "data": {
      "text/html": [
       "<div>\n",
       "<style scoped>\n",
       "    .dataframe tbody tr th:only-of-type {\n",
       "        vertical-align: middle;\n",
       "    }\n",
       "\n",
       "    .dataframe tbody tr th {\n",
       "        vertical-align: top;\n",
       "    }\n",
       "\n",
       "    .dataframe thead th {\n",
       "        text-align: right;\n",
       "    }\n",
       "</style>\n",
       "<table border=\"1\" class=\"dataframe\">\n",
       "  <thead>\n",
       "    <tr style=\"text-align: right;\">\n",
       "      <th></th>\n",
       "      <th>PCA1</th>\n",
       "      <th>PCA2</th>\n",
       "      <th>var15</th>\n",
       "      <th>imp_ent_var16_ult1</th>\n",
       "      <th>imp_op_var39_comer_ult1</th>\n",
       "      <th>imp_op_var39_comer_ult3</th>\n",
       "      <th>imp_op_var40_comer_ult1</th>\n",
       "      <th>imp_op_var40_comer_ult3</th>\n",
       "      <th>imp_op_var40_efect_ult1</th>\n",
       "      <th>imp_op_var40_efect_ult3</th>\n",
       "      <th>...</th>\n",
       "      <th>saldo_medio_var13_largo_hace2</th>\n",
       "      <th>saldo_medio_var13_largo_hace3</th>\n",
       "      <th>saldo_medio_var33_hace2</th>\n",
       "      <th>saldo_medio_var33_hace3</th>\n",
       "      <th>saldo_medio_var33_ult1</th>\n",
       "      <th>saldo_medio_var44_hace2</th>\n",
       "      <th>saldo_medio_var44_hace3</th>\n",
       "      <th>saldo_medio_var44_ult1</th>\n",
       "      <th>var38</th>\n",
       "      <th>TARGET</th>\n",
       "    </tr>\n",
       "  </thead>\n",
       "  <tbody>\n",
       "    <tr>\n",
       "      <th>0</th>\n",
       "      <td>-0.962970</td>\n",
       "      <td>-0.139903</td>\n",
       "      <td>-1.024949</td>\n",
       "      <td>-0.055846</td>\n",
       "      <td>-0.208291</td>\n",
       "      <td>-0.227918</td>\n",
       "      <td>-0.043196</td>\n",
       "      <td>-0.046181</td>\n",
       "      <td>-0.040202</td>\n",
       "      <td>-0.036714</td>\n",
       "      <td>...</td>\n",
       "      <td>-0.043562</td>\n",
       "      <td>-0.024608</td>\n",
       "      <td>-0.012503</td>\n",
       "      <td>-0.008193</td>\n",
       "      <td>-0.012715</td>\n",
       "      <td>-0.01133</td>\n",
       "      <td>-0.008997</td>\n",
       "      <td>-0.013473</td>\n",
       "      <td>0.068402</td>\n",
       "      <td>0</td>\n",
       "    </tr>\n",
       "    <tr>\n",
       "      <th>1</th>\n",
       "      <td>-2.047607</td>\n",
       "      <td>-0.895903</td>\n",
       "      <td>-0.860611</td>\n",
       "      <td>-0.055846</td>\n",
       "      <td>-0.208291</td>\n",
       "      <td>-0.227918</td>\n",
       "      <td>-0.043196</td>\n",
       "      <td>-0.046181</td>\n",
       "      <td>-0.040202</td>\n",
       "      <td>-0.036714</td>\n",
       "      <td>...</td>\n",
       "      <td>-0.043562</td>\n",
       "      <td>-0.024608</td>\n",
       "      <td>-0.012503</td>\n",
       "      <td>-0.008193</td>\n",
       "      <td>-0.012715</td>\n",
       "      <td>-0.01133</td>\n",
       "      <td>-0.008997</td>\n",
       "      <td>-0.013473</td>\n",
       "      <td>2.023054</td>\n",
       "      <td>0</td>\n",
       "    </tr>\n",
       "    <tr>\n",
       "      <th>2</th>\n",
       "      <td>-1.993145</td>\n",
       "      <td>-0.846273</td>\n",
       "      <td>0.536261</td>\n",
       "      <td>-0.055846</td>\n",
       "      <td>-0.208291</td>\n",
       "      <td>-0.227918</td>\n",
       "      <td>-0.043196</td>\n",
       "      <td>-0.046181</td>\n",
       "      <td>-0.040202</td>\n",
       "      <td>-0.036714</td>\n",
       "      <td>...</td>\n",
       "      <td>-0.043562</td>\n",
       "      <td>-0.024608</td>\n",
       "      <td>-0.012503</td>\n",
       "      <td>-0.008193</td>\n",
       "      <td>-0.012715</td>\n",
       "      <td>-0.01133</td>\n",
       "      <td>-0.008997</td>\n",
       "      <td>-0.013473</td>\n",
       "      <td>-0.145718</td>\n",
       "      <td>0</td>\n",
       "    </tr>\n",
       "    <tr>\n",
       "      <th>3</th>\n",
       "      <td>-0.885292</td>\n",
       "      <td>-0.045037</td>\n",
       "      <td>-0.860611</td>\n",
       "      <td>-0.055846</td>\n",
       "      <td>-0.208291</td>\n",
       "      <td>-0.227918</td>\n",
       "      <td>-0.043196</td>\n",
       "      <td>-0.046181</td>\n",
       "      <td>-0.040202</td>\n",
       "      <td>-0.036714</td>\n",
       "      <td>...</td>\n",
       "      <td>-0.043562</td>\n",
       "      <td>-0.024608</td>\n",
       "      <td>-0.012503</td>\n",
       "      <td>-0.008193</td>\n",
       "      <td>-0.012715</td>\n",
       "      <td>-0.01133</td>\n",
       "      <td>-0.008997</td>\n",
       "      <td>-0.013473</td>\n",
       "      <td>0.068402</td>\n",
       "      <td>0</td>\n",
       "    </tr>\n",
       "    <tr>\n",
       "      <th>4</th>\n",
       "      <td>-2.750361</td>\n",
       "      <td>-1.202725</td>\n",
       "      <td>-1.107118</td>\n",
       "      <td>-0.055846</td>\n",
       "      <td>-0.208291</td>\n",
       "      <td>-0.227918</td>\n",
       "      <td>-0.043196</td>\n",
       "      <td>-0.046181</td>\n",
       "      <td>-0.040202</td>\n",
       "      <td>-0.036714</td>\n",
       "      <td>...</td>\n",
       "      <td>-0.043562</td>\n",
       "      <td>-0.024608</td>\n",
       "      <td>-0.012503</td>\n",
       "      <td>-0.008193</td>\n",
       "      <td>-0.012715</td>\n",
       "      <td>-0.01133</td>\n",
       "      <td>-0.008997</td>\n",
       "      <td>-0.013473</td>\n",
       "      <td>-0.231266</td>\n",
       "      <td>0</td>\n",
       "    </tr>\n",
       "  </tbody>\n",
       "</table>\n",
       "<p>5 rows × 142 columns</p>\n",
       "</div>"
      ],
      "text/plain": [
       "       PCA1      PCA2     var15  imp_ent_var16_ult1  imp_op_var39_comer_ult1  \\\n",
       "0 -0.962970 -0.139903 -1.024949           -0.055846                -0.208291   \n",
       "1 -2.047607 -0.895903 -0.860611           -0.055846                -0.208291   \n",
       "2 -1.993145 -0.846273  0.536261           -0.055846                -0.208291   \n",
       "3 -0.885292 -0.045037 -0.860611           -0.055846                -0.208291   \n",
       "4 -2.750361 -1.202725 -1.107118           -0.055846                -0.208291   \n",
       "\n",
       "   imp_op_var39_comer_ult3  imp_op_var40_comer_ult1  imp_op_var40_comer_ult3  \\\n",
       "0                -0.227918                -0.043196                -0.046181   \n",
       "1                -0.227918                -0.043196                -0.046181   \n",
       "2                -0.227918                -0.043196                -0.046181   \n",
       "3                -0.227918                -0.043196                -0.046181   \n",
       "4                -0.227918                -0.043196                -0.046181   \n",
       "\n",
       "   imp_op_var40_efect_ult1  imp_op_var40_efect_ult3  ...  \\\n",
       "0                -0.040202                -0.036714  ...   \n",
       "1                -0.040202                -0.036714  ...   \n",
       "2                -0.040202                -0.036714  ...   \n",
       "3                -0.040202                -0.036714  ...   \n",
       "4                -0.040202                -0.036714  ...   \n",
       "\n",
       "   saldo_medio_var13_largo_hace2  saldo_medio_var13_largo_hace3  \\\n",
       "0                      -0.043562                      -0.024608   \n",
       "1                      -0.043562                      -0.024608   \n",
       "2                      -0.043562                      -0.024608   \n",
       "3                      -0.043562                      -0.024608   \n",
       "4                      -0.043562                      -0.024608   \n",
       "\n",
       "   saldo_medio_var33_hace2  saldo_medio_var33_hace3  saldo_medio_var33_ult1  \\\n",
       "0                -0.012503                -0.008193               -0.012715   \n",
       "1                -0.012503                -0.008193               -0.012715   \n",
       "2                -0.012503                -0.008193               -0.012715   \n",
       "3                -0.012503                -0.008193               -0.012715   \n",
       "4                -0.012503                -0.008193               -0.012715   \n",
       "\n",
       "   saldo_medio_var44_hace2  saldo_medio_var44_hace3  saldo_medio_var44_ult1  \\\n",
       "0                 -0.01133                -0.008997               -0.013473   \n",
       "1                 -0.01133                -0.008997               -0.013473   \n",
       "2                 -0.01133                -0.008997               -0.013473   \n",
       "3                 -0.01133                -0.008997               -0.013473   \n",
       "4                 -0.01133                -0.008997               -0.013473   \n",
       "\n",
       "      var38  TARGET  \n",
       "0  0.068402       0  \n",
       "1  2.023054       0  \n",
       "2 -0.145718       0  \n",
       "3  0.068402       0  \n",
       "4 -0.231266       0  \n",
       "\n",
       "[5 rows x 142 columns]"
      ]
     },
     "execution_count": 6,
     "metadata": {},
     "output_type": "execute_result"
    }
   ],
   "source": [
    "df_train.head(5)"
   ]
  },
  {
   "cell_type": "code",
   "execution_count": 7,
   "id": "7d85a534",
   "metadata": {},
   "outputs": [
    {
     "data": {
      "text/html": [
       "<div>\n",
       "<style scoped>\n",
       "    .dataframe tbody tr th:only-of-type {\n",
       "        vertical-align: middle;\n",
       "    }\n",
       "\n",
       "    .dataframe tbody tr th {\n",
       "        vertical-align: top;\n",
       "    }\n",
       "\n",
       "    .dataframe thead th {\n",
       "        text-align: right;\n",
       "    }\n",
       "</style>\n",
       "<table border=\"1\" class=\"dataframe\">\n",
       "  <thead>\n",
       "    <tr style=\"text-align: right;\">\n",
       "      <th></th>\n",
       "      <th>PCA1</th>\n",
       "      <th>PCA2</th>\n",
       "      <th>var15</th>\n",
       "      <th>imp_ent_var16_ult1</th>\n",
       "      <th>imp_op_var39_comer_ult1</th>\n",
       "      <th>imp_op_var39_comer_ult3</th>\n",
       "      <th>imp_op_var40_comer_ult1</th>\n",
       "      <th>imp_op_var40_comer_ult3</th>\n",
       "      <th>imp_op_var40_efect_ult1</th>\n",
       "      <th>imp_op_var40_efect_ult3</th>\n",
       "      <th>...</th>\n",
       "      <th>saldo_medio_var13_largo_hace2</th>\n",
       "      <th>saldo_medio_var13_largo_hace3</th>\n",
       "      <th>saldo_medio_var33_hace2</th>\n",
       "      <th>saldo_medio_var33_hace3</th>\n",
       "      <th>saldo_medio_var33_ult1</th>\n",
       "      <th>saldo_medio_var44_hace2</th>\n",
       "      <th>saldo_medio_var44_hace3</th>\n",
       "      <th>saldo_medio_var44_ult1</th>\n",
       "      <th>var38</th>\n",
       "      <th>TARGET</th>\n",
       "    </tr>\n",
       "  </thead>\n",
       "  <tbody>\n",
       "    <tr>\n",
       "      <th>10</th>\n",
       "      <td>4.004402</td>\n",
       "      <td>-1.080939</td>\n",
       "      <td>0.207585</td>\n",
       "      <td>-0.055846</td>\n",
       "      <td>-0.208291</td>\n",
       "      <td>-0.227918</td>\n",
       "      <td>-0.043196</td>\n",
       "      <td>-0.046181</td>\n",
       "      <td>-0.040202</td>\n",
       "      <td>-0.036714</td>\n",
       "      <td>...</td>\n",
       "      <td>-0.043562</td>\n",
       "      <td>-0.024608</td>\n",
       "      <td>-0.012503</td>\n",
       "      <td>-0.008193</td>\n",
       "      <td>-0.012715</td>\n",
       "      <td>-0.01133</td>\n",
       "      <td>-0.008997</td>\n",
       "      <td>-0.013473</td>\n",
       "      <td>0.068402</td>\n",
       "      <td>0</td>\n",
       "    </tr>\n",
       "    <tr>\n",
       "      <th>14</th>\n",
       "      <td>2.504976</td>\n",
       "      <td>15.271996</td>\n",
       "      <td>-0.778442</td>\n",
       "      <td>-0.055846</td>\n",
       "      <td>-0.208291</td>\n",
       "      <td>-0.227918</td>\n",
       "      <td>-0.043196</td>\n",
       "      <td>-0.046181</td>\n",
       "      <td>-0.040202</td>\n",
       "      <td>-0.036714</td>\n",
       "      <td>...</td>\n",
       "      <td>-0.043562</td>\n",
       "      <td>-0.024608</td>\n",
       "      <td>-0.012503</td>\n",
       "      <td>-0.008193</td>\n",
       "      <td>-0.012715</td>\n",
       "      <td>-0.01133</td>\n",
       "      <td>-0.008997</td>\n",
       "      <td>-0.013473</td>\n",
       "      <td>-0.082372</td>\n",
       "      <td>0</td>\n",
       "    </tr>\n",
       "    <tr>\n",
       "      <th>18</th>\n",
       "      <td>-0.476002</td>\n",
       "      <td>-0.221313</td>\n",
       "      <td>-0.860611</td>\n",
       "      <td>-0.055846</td>\n",
       "      <td>-0.208291</td>\n",
       "      <td>-0.227918</td>\n",
       "      <td>-0.043196</td>\n",
       "      <td>-0.046181</td>\n",
       "      <td>-0.040202</td>\n",
       "      <td>-0.036714</td>\n",
       "      <td>...</td>\n",
       "      <td>-0.043562</td>\n",
       "      <td>-0.024608</td>\n",
       "      <td>-0.012503</td>\n",
       "      <td>-0.008193</td>\n",
       "      <td>-0.012715</td>\n",
       "      <td>-0.01133</td>\n",
       "      <td>-0.008997</td>\n",
       "      <td>-0.013473</td>\n",
       "      <td>0.974407</td>\n",
       "      <td>0</td>\n",
       "    </tr>\n",
       "    <tr>\n",
       "      <th>29</th>\n",
       "      <td>-0.925017</td>\n",
       "      <td>-0.140909</td>\n",
       "      <td>1.193613</td>\n",
       "      <td>-0.055846</td>\n",
       "      <td>-0.208291</td>\n",
       "      <td>-0.227918</td>\n",
       "      <td>-0.043196</td>\n",
       "      <td>-0.046181</td>\n",
       "      <td>-0.040202</td>\n",
       "      <td>-0.036714</td>\n",
       "      <td>...</td>\n",
       "      <td>-0.043562</td>\n",
       "      <td>-0.024608</td>\n",
       "      <td>-0.012503</td>\n",
       "      <td>-0.008193</td>\n",
       "      <td>-0.012715</td>\n",
       "      <td>-0.01133</td>\n",
       "      <td>-0.008997</td>\n",
       "      <td>-0.013473</td>\n",
       "      <td>0.101512</td>\n",
       "      <td>0</td>\n",
       "    </tr>\n",
       "    <tr>\n",
       "      <th>80</th>\n",
       "      <td>-2.740984</td>\n",
       "      <td>-1.178466</td>\n",
       "      <td>-0.860611</td>\n",
       "      <td>-0.055846</td>\n",
       "      <td>-0.208291</td>\n",
       "      <td>-0.227918</td>\n",
       "      <td>-0.043196</td>\n",
       "      <td>-0.046181</td>\n",
       "      <td>-0.040202</td>\n",
       "      <td>-0.036714</td>\n",
       "      <td>...</td>\n",
       "      <td>-0.043562</td>\n",
       "      <td>-0.024608</td>\n",
       "      <td>-0.012503</td>\n",
       "      <td>-0.008193</td>\n",
       "      <td>-0.012715</td>\n",
       "      <td>-0.01133</td>\n",
       "      <td>-0.008997</td>\n",
       "      <td>-0.013473</td>\n",
       "      <td>0.107538</td>\n",
       "      <td>0</td>\n",
       "    </tr>\n",
       "  </tbody>\n",
       "</table>\n",
       "<p>5 rows × 142 columns</p>\n",
       "</div>"
      ],
      "text/plain": [
       "        PCA1       PCA2     var15  imp_ent_var16_ult1  \\\n",
       "10  4.004402  -1.080939  0.207585           -0.055846   \n",
       "14  2.504976  15.271996 -0.778442           -0.055846   \n",
       "18 -0.476002  -0.221313 -0.860611           -0.055846   \n",
       "29 -0.925017  -0.140909  1.193613           -0.055846   \n",
       "80 -2.740984  -1.178466 -0.860611           -0.055846   \n",
       "\n",
       "    imp_op_var39_comer_ult1  imp_op_var39_comer_ult3  imp_op_var40_comer_ult1  \\\n",
       "10                -0.208291                -0.227918                -0.043196   \n",
       "14                -0.208291                -0.227918                -0.043196   \n",
       "18                -0.208291                -0.227918                -0.043196   \n",
       "29                -0.208291                -0.227918                -0.043196   \n",
       "80                -0.208291                -0.227918                -0.043196   \n",
       "\n",
       "    imp_op_var40_comer_ult3  imp_op_var40_efect_ult1  imp_op_var40_efect_ult3  \\\n",
       "10                -0.046181                -0.040202                -0.036714   \n",
       "14                -0.046181                -0.040202                -0.036714   \n",
       "18                -0.046181                -0.040202                -0.036714   \n",
       "29                -0.046181                -0.040202                -0.036714   \n",
       "80                -0.046181                -0.040202                -0.036714   \n",
       "\n",
       "    ...  saldo_medio_var13_largo_hace2  saldo_medio_var13_largo_hace3  \\\n",
       "10  ...                      -0.043562                      -0.024608   \n",
       "14  ...                      -0.043562                      -0.024608   \n",
       "18  ...                      -0.043562                      -0.024608   \n",
       "29  ...                      -0.043562                      -0.024608   \n",
       "80  ...                      -0.043562                      -0.024608   \n",
       "\n",
       "    saldo_medio_var33_hace2  saldo_medio_var33_hace3  saldo_medio_var33_ult1  \\\n",
       "10                -0.012503                -0.008193               -0.012715   \n",
       "14                -0.012503                -0.008193               -0.012715   \n",
       "18                -0.012503                -0.008193               -0.012715   \n",
       "29                -0.012503                -0.008193               -0.012715   \n",
       "80                -0.012503                -0.008193               -0.012715   \n",
       "\n",
       "    saldo_medio_var44_hace2  saldo_medio_var44_hace3  saldo_medio_var44_ult1  \\\n",
       "10                 -0.01133                -0.008997               -0.013473   \n",
       "14                 -0.01133                -0.008997               -0.013473   \n",
       "18                 -0.01133                -0.008997               -0.013473   \n",
       "29                 -0.01133                -0.008997               -0.013473   \n",
       "80                 -0.01133                -0.008997               -0.013473   \n",
       "\n",
       "       var38  TARGET  \n",
       "10  0.068402       0  \n",
       "14 -0.082372       0  \n",
       "18  0.974407       0  \n",
       "29  0.101512       0  \n",
       "80  0.107538       0  \n",
       "\n",
       "[5 rows x 142 columns]"
      ]
     },
     "execution_count": 7,
     "metadata": {},
     "output_type": "execute_result"
    }
   ],
   "source": [
    "df_test.head(5)"
   ]
  },
  {
   "cell_type": "code",
   "execution_count": 8,
   "id": "9d6fff51",
   "metadata": {},
   "outputs": [],
   "source": [
    "# Separando variáveis preditoras da variável-alvo (datasets treino e teste)\n",
    "# Separating predictor variables from the target variable (training and test datasets)\n",
    "\n",
    "target = 'TARGET'\n",
    "\n",
    "X_train = df_train.drop(target, axis = 1)\n",
    "y_train = df_train[target]\n",
    "\n",
    "X_test = df_test.drop(target, axis = 1)\n",
    "y_test = df_test[target]"
   ]
  },
  {
   "cell_type": "code",
   "execution_count": 9,
   "id": "c5e21624",
   "metadata": {},
   "outputs": [
    {
     "data": {
      "text/html": [
       "<div>\n",
       "<style scoped>\n",
       "    .dataframe tbody tr th:only-of-type {\n",
       "        vertical-align: middle;\n",
       "    }\n",
       "\n",
       "    .dataframe tbody tr th {\n",
       "        vertical-align: top;\n",
       "    }\n",
       "\n",
       "    .dataframe thead th {\n",
       "        text-align: right;\n",
       "    }\n",
       "</style>\n",
       "<table border=\"1\" class=\"dataframe\">\n",
       "  <thead>\n",
       "    <tr style=\"text-align: right;\">\n",
       "      <th></th>\n",
       "      <th>PCA1</th>\n",
       "      <th>PCA2</th>\n",
       "      <th>var15</th>\n",
       "      <th>imp_ent_var16_ult1</th>\n",
       "      <th>imp_op_var39_comer_ult1</th>\n",
       "      <th>imp_op_var39_comer_ult3</th>\n",
       "      <th>imp_op_var40_comer_ult1</th>\n",
       "      <th>imp_op_var40_comer_ult3</th>\n",
       "      <th>imp_op_var40_efect_ult1</th>\n",
       "      <th>imp_op_var40_efect_ult3</th>\n",
       "      <th>...</th>\n",
       "      <th>saldo_medio_var13_corto_hace3</th>\n",
       "      <th>saldo_medio_var13_largo_hace2</th>\n",
       "      <th>saldo_medio_var13_largo_hace3</th>\n",
       "      <th>saldo_medio_var33_hace2</th>\n",
       "      <th>saldo_medio_var33_hace3</th>\n",
       "      <th>saldo_medio_var33_ult1</th>\n",
       "      <th>saldo_medio_var44_hace2</th>\n",
       "      <th>saldo_medio_var44_hace3</th>\n",
       "      <th>saldo_medio_var44_ult1</th>\n",
       "      <th>var38</th>\n",
       "    </tr>\n",
       "  </thead>\n",
       "  <tbody>\n",
       "    <tr>\n",
       "      <th>0</th>\n",
       "      <td>-0.962970</td>\n",
       "      <td>-0.139903</td>\n",
       "      <td>-1.024949</td>\n",
       "      <td>-0.055846</td>\n",
       "      <td>-0.208291</td>\n",
       "      <td>-0.227918</td>\n",
       "      <td>-0.043196</td>\n",
       "      <td>-0.046181</td>\n",
       "      <td>-0.040202</td>\n",
       "      <td>-0.036714</td>\n",
       "      <td>...</td>\n",
       "      <td>-0.055948</td>\n",
       "      <td>-0.043562</td>\n",
       "      <td>-0.024608</td>\n",
       "      <td>-0.012503</td>\n",
       "      <td>-0.008193</td>\n",
       "      <td>-0.012715</td>\n",
       "      <td>-0.01133</td>\n",
       "      <td>-0.008997</td>\n",
       "      <td>-0.013473</td>\n",
       "      <td>0.068402</td>\n",
       "    </tr>\n",
       "    <tr>\n",
       "      <th>1</th>\n",
       "      <td>-2.047607</td>\n",
       "      <td>-0.895903</td>\n",
       "      <td>-0.860611</td>\n",
       "      <td>-0.055846</td>\n",
       "      <td>-0.208291</td>\n",
       "      <td>-0.227918</td>\n",
       "      <td>-0.043196</td>\n",
       "      <td>-0.046181</td>\n",
       "      <td>-0.040202</td>\n",
       "      <td>-0.036714</td>\n",
       "      <td>...</td>\n",
       "      <td>-0.055948</td>\n",
       "      <td>-0.043562</td>\n",
       "      <td>-0.024608</td>\n",
       "      <td>-0.012503</td>\n",
       "      <td>-0.008193</td>\n",
       "      <td>-0.012715</td>\n",
       "      <td>-0.01133</td>\n",
       "      <td>-0.008997</td>\n",
       "      <td>-0.013473</td>\n",
       "      <td>2.023054</td>\n",
       "    </tr>\n",
       "    <tr>\n",
       "      <th>2</th>\n",
       "      <td>-1.993145</td>\n",
       "      <td>-0.846273</td>\n",
       "      <td>0.536261</td>\n",
       "      <td>-0.055846</td>\n",
       "      <td>-0.208291</td>\n",
       "      <td>-0.227918</td>\n",
       "      <td>-0.043196</td>\n",
       "      <td>-0.046181</td>\n",
       "      <td>-0.040202</td>\n",
       "      <td>-0.036714</td>\n",
       "      <td>...</td>\n",
       "      <td>-0.055948</td>\n",
       "      <td>-0.043562</td>\n",
       "      <td>-0.024608</td>\n",
       "      <td>-0.012503</td>\n",
       "      <td>-0.008193</td>\n",
       "      <td>-0.012715</td>\n",
       "      <td>-0.01133</td>\n",
       "      <td>-0.008997</td>\n",
       "      <td>-0.013473</td>\n",
       "      <td>-0.145718</td>\n",
       "    </tr>\n",
       "    <tr>\n",
       "      <th>3</th>\n",
       "      <td>-0.885292</td>\n",
       "      <td>-0.045037</td>\n",
       "      <td>-0.860611</td>\n",
       "      <td>-0.055846</td>\n",
       "      <td>-0.208291</td>\n",
       "      <td>-0.227918</td>\n",
       "      <td>-0.043196</td>\n",
       "      <td>-0.046181</td>\n",
       "      <td>-0.040202</td>\n",
       "      <td>-0.036714</td>\n",
       "      <td>...</td>\n",
       "      <td>-0.055948</td>\n",
       "      <td>-0.043562</td>\n",
       "      <td>-0.024608</td>\n",
       "      <td>-0.012503</td>\n",
       "      <td>-0.008193</td>\n",
       "      <td>-0.012715</td>\n",
       "      <td>-0.01133</td>\n",
       "      <td>-0.008997</td>\n",
       "      <td>-0.013473</td>\n",
       "      <td>0.068402</td>\n",
       "    </tr>\n",
       "    <tr>\n",
       "      <th>4</th>\n",
       "      <td>-2.750361</td>\n",
       "      <td>-1.202725</td>\n",
       "      <td>-1.107118</td>\n",
       "      <td>-0.055846</td>\n",
       "      <td>-0.208291</td>\n",
       "      <td>-0.227918</td>\n",
       "      <td>-0.043196</td>\n",
       "      <td>-0.046181</td>\n",
       "      <td>-0.040202</td>\n",
       "      <td>-0.036714</td>\n",
       "      <td>...</td>\n",
       "      <td>-0.055948</td>\n",
       "      <td>-0.043562</td>\n",
       "      <td>-0.024608</td>\n",
       "      <td>-0.012503</td>\n",
       "      <td>-0.008193</td>\n",
       "      <td>-0.012715</td>\n",
       "      <td>-0.01133</td>\n",
       "      <td>-0.008997</td>\n",
       "      <td>-0.013473</td>\n",
       "      <td>-0.231266</td>\n",
       "    </tr>\n",
       "  </tbody>\n",
       "</table>\n",
       "<p>5 rows × 141 columns</p>\n",
       "</div>"
      ],
      "text/plain": [
       "       PCA1      PCA2     var15  imp_ent_var16_ult1  imp_op_var39_comer_ult1  \\\n",
       "0 -0.962970 -0.139903 -1.024949           -0.055846                -0.208291   \n",
       "1 -2.047607 -0.895903 -0.860611           -0.055846                -0.208291   \n",
       "2 -1.993145 -0.846273  0.536261           -0.055846                -0.208291   \n",
       "3 -0.885292 -0.045037 -0.860611           -0.055846                -0.208291   \n",
       "4 -2.750361 -1.202725 -1.107118           -0.055846                -0.208291   \n",
       "\n",
       "   imp_op_var39_comer_ult3  imp_op_var40_comer_ult1  imp_op_var40_comer_ult3  \\\n",
       "0                -0.227918                -0.043196                -0.046181   \n",
       "1                -0.227918                -0.043196                -0.046181   \n",
       "2                -0.227918                -0.043196                -0.046181   \n",
       "3                -0.227918                -0.043196                -0.046181   \n",
       "4                -0.227918                -0.043196                -0.046181   \n",
       "\n",
       "   imp_op_var40_efect_ult1  imp_op_var40_efect_ult3  ...  \\\n",
       "0                -0.040202                -0.036714  ...   \n",
       "1                -0.040202                -0.036714  ...   \n",
       "2                -0.040202                -0.036714  ...   \n",
       "3                -0.040202                -0.036714  ...   \n",
       "4                -0.040202                -0.036714  ...   \n",
       "\n",
       "   saldo_medio_var13_corto_hace3  saldo_medio_var13_largo_hace2  \\\n",
       "0                      -0.055948                      -0.043562   \n",
       "1                      -0.055948                      -0.043562   \n",
       "2                      -0.055948                      -0.043562   \n",
       "3                      -0.055948                      -0.043562   \n",
       "4                      -0.055948                      -0.043562   \n",
       "\n",
       "   saldo_medio_var13_largo_hace3  saldo_medio_var33_hace2  \\\n",
       "0                      -0.024608                -0.012503   \n",
       "1                      -0.024608                -0.012503   \n",
       "2                      -0.024608                -0.012503   \n",
       "3                      -0.024608                -0.012503   \n",
       "4                      -0.024608                -0.012503   \n",
       "\n",
       "   saldo_medio_var33_hace3  saldo_medio_var33_ult1  saldo_medio_var44_hace2  \\\n",
       "0                -0.008193               -0.012715                 -0.01133   \n",
       "1                -0.008193               -0.012715                 -0.01133   \n",
       "2                -0.008193               -0.012715                 -0.01133   \n",
       "3                -0.008193               -0.012715                 -0.01133   \n",
       "4                -0.008193               -0.012715                 -0.01133   \n",
       "\n",
       "   saldo_medio_var44_hace3  saldo_medio_var44_ult1     var38  \n",
       "0                -0.008997               -0.013473  0.068402  \n",
       "1                -0.008997               -0.013473  2.023054  \n",
       "2                -0.008997               -0.013473 -0.145718  \n",
       "3                -0.008997               -0.013473  0.068402  \n",
       "4                -0.008997               -0.013473 -0.231266  \n",
       "\n",
       "[5 rows x 141 columns]"
      ]
     },
     "execution_count": 9,
     "metadata": {},
     "output_type": "execute_result"
    }
   ],
   "source": [
    "X_train.head()"
   ]
  },
  {
   "cell_type": "code",
   "execution_count": 10,
   "id": "bd0d2e00",
   "metadata": {},
   "outputs": [
    {
     "name": "stdout",
     "output_type": "stream",
     "text": [
      "<class 'pandas.core.frame.DataFrame'>\n",
      "Int64Index: 92164 entries, 0 to 92163\n",
      "Columns: 141 entries, PCA1 to var38\n",
      "dtypes: float64(141)\n",
      "memory usage: 99.8 MB\n"
     ]
    }
   ],
   "source": [
    "X_train.info()"
   ]
  },
  {
   "cell_type": "code",
   "execution_count": 11,
   "id": "51c09184",
   "metadata": {},
   "outputs": [
    {
     "data": {
      "text/html": [
       "<div>\n",
       "<style scoped>\n",
       "    .dataframe tbody tr th:only-of-type {\n",
       "        vertical-align: middle;\n",
       "    }\n",
       "\n",
       "    .dataframe tbody tr th {\n",
       "        vertical-align: top;\n",
       "    }\n",
       "\n",
       "    .dataframe thead th {\n",
       "        text-align: right;\n",
       "    }\n",
       "</style>\n",
       "<table border=\"1\" class=\"dataframe\">\n",
       "  <thead>\n",
       "    <tr style=\"text-align: right;\">\n",
       "      <th></th>\n",
       "      <th>PCA1</th>\n",
       "      <th>PCA2</th>\n",
       "      <th>var15</th>\n",
       "      <th>imp_ent_var16_ult1</th>\n",
       "      <th>imp_op_var39_comer_ult1</th>\n",
       "      <th>imp_op_var39_comer_ult3</th>\n",
       "      <th>imp_op_var40_comer_ult1</th>\n",
       "      <th>imp_op_var40_comer_ult3</th>\n",
       "      <th>imp_op_var40_efect_ult1</th>\n",
       "      <th>imp_op_var40_efect_ult3</th>\n",
       "      <th>...</th>\n",
       "      <th>saldo_medio_var13_corto_hace3</th>\n",
       "      <th>saldo_medio_var13_largo_hace2</th>\n",
       "      <th>saldo_medio_var13_largo_hace3</th>\n",
       "      <th>saldo_medio_var33_hace2</th>\n",
       "      <th>saldo_medio_var33_hace3</th>\n",
       "      <th>saldo_medio_var33_ult1</th>\n",
       "      <th>saldo_medio_var44_hace2</th>\n",
       "      <th>saldo_medio_var44_hace3</th>\n",
       "      <th>saldo_medio_var44_ult1</th>\n",
       "      <th>var38</th>\n",
       "    </tr>\n",
       "  </thead>\n",
       "  <tbody>\n",
       "    <tr>\n",
       "      <th>10</th>\n",
       "      <td>4.004402</td>\n",
       "      <td>-1.080939</td>\n",
       "      <td>0.207585</td>\n",
       "      <td>-0.055846</td>\n",
       "      <td>-0.208291</td>\n",
       "      <td>-0.227918</td>\n",
       "      <td>-0.043196</td>\n",
       "      <td>-0.046181</td>\n",
       "      <td>-0.040202</td>\n",
       "      <td>-0.036714</td>\n",
       "      <td>...</td>\n",
       "      <td>-0.055948</td>\n",
       "      <td>-0.043562</td>\n",
       "      <td>-0.024608</td>\n",
       "      <td>-0.012503</td>\n",
       "      <td>-0.008193</td>\n",
       "      <td>-0.012715</td>\n",
       "      <td>-0.01133</td>\n",
       "      <td>-0.008997</td>\n",
       "      <td>-0.013473</td>\n",
       "      <td>0.068402</td>\n",
       "    </tr>\n",
       "    <tr>\n",
       "      <th>14</th>\n",
       "      <td>2.504976</td>\n",
       "      <td>15.271996</td>\n",
       "      <td>-0.778442</td>\n",
       "      <td>-0.055846</td>\n",
       "      <td>-0.208291</td>\n",
       "      <td>-0.227918</td>\n",
       "      <td>-0.043196</td>\n",
       "      <td>-0.046181</td>\n",
       "      <td>-0.040202</td>\n",
       "      <td>-0.036714</td>\n",
       "      <td>...</td>\n",
       "      <td>-0.055948</td>\n",
       "      <td>-0.043562</td>\n",
       "      <td>-0.024608</td>\n",
       "      <td>-0.012503</td>\n",
       "      <td>-0.008193</td>\n",
       "      <td>-0.012715</td>\n",
       "      <td>-0.01133</td>\n",
       "      <td>-0.008997</td>\n",
       "      <td>-0.013473</td>\n",
       "      <td>-0.082372</td>\n",
       "    </tr>\n",
       "    <tr>\n",
       "      <th>18</th>\n",
       "      <td>-0.476002</td>\n",
       "      <td>-0.221313</td>\n",
       "      <td>-0.860611</td>\n",
       "      <td>-0.055846</td>\n",
       "      <td>-0.208291</td>\n",
       "      <td>-0.227918</td>\n",
       "      <td>-0.043196</td>\n",
       "      <td>-0.046181</td>\n",
       "      <td>-0.040202</td>\n",
       "      <td>-0.036714</td>\n",
       "      <td>...</td>\n",
       "      <td>-0.055948</td>\n",
       "      <td>-0.043562</td>\n",
       "      <td>-0.024608</td>\n",
       "      <td>-0.012503</td>\n",
       "      <td>-0.008193</td>\n",
       "      <td>-0.012715</td>\n",
       "      <td>-0.01133</td>\n",
       "      <td>-0.008997</td>\n",
       "      <td>-0.013473</td>\n",
       "      <td>0.974407</td>\n",
       "    </tr>\n",
       "    <tr>\n",
       "      <th>29</th>\n",
       "      <td>-0.925017</td>\n",
       "      <td>-0.140909</td>\n",
       "      <td>1.193613</td>\n",
       "      <td>-0.055846</td>\n",
       "      <td>-0.208291</td>\n",
       "      <td>-0.227918</td>\n",
       "      <td>-0.043196</td>\n",
       "      <td>-0.046181</td>\n",
       "      <td>-0.040202</td>\n",
       "      <td>-0.036714</td>\n",
       "      <td>...</td>\n",
       "      <td>-0.055948</td>\n",
       "      <td>-0.043562</td>\n",
       "      <td>-0.024608</td>\n",
       "      <td>-0.012503</td>\n",
       "      <td>-0.008193</td>\n",
       "      <td>-0.012715</td>\n",
       "      <td>-0.01133</td>\n",
       "      <td>-0.008997</td>\n",
       "      <td>-0.013473</td>\n",
       "      <td>0.101512</td>\n",
       "    </tr>\n",
       "    <tr>\n",
       "      <th>80</th>\n",
       "      <td>-2.740984</td>\n",
       "      <td>-1.178466</td>\n",
       "      <td>-0.860611</td>\n",
       "      <td>-0.055846</td>\n",
       "      <td>-0.208291</td>\n",
       "      <td>-0.227918</td>\n",
       "      <td>-0.043196</td>\n",
       "      <td>-0.046181</td>\n",
       "      <td>-0.040202</td>\n",
       "      <td>-0.036714</td>\n",
       "      <td>...</td>\n",
       "      <td>-0.055948</td>\n",
       "      <td>-0.043562</td>\n",
       "      <td>-0.024608</td>\n",
       "      <td>-0.012503</td>\n",
       "      <td>-0.008193</td>\n",
       "      <td>-0.012715</td>\n",
       "      <td>-0.01133</td>\n",
       "      <td>-0.008997</td>\n",
       "      <td>-0.013473</td>\n",
       "      <td>0.107538</td>\n",
       "    </tr>\n",
       "  </tbody>\n",
       "</table>\n",
       "<p>5 rows × 141 columns</p>\n",
       "</div>"
      ],
      "text/plain": [
       "        PCA1       PCA2     var15  imp_ent_var16_ult1  \\\n",
       "10  4.004402  -1.080939  0.207585           -0.055846   \n",
       "14  2.504976  15.271996 -0.778442           -0.055846   \n",
       "18 -0.476002  -0.221313 -0.860611           -0.055846   \n",
       "29 -0.925017  -0.140909  1.193613           -0.055846   \n",
       "80 -2.740984  -1.178466 -0.860611           -0.055846   \n",
       "\n",
       "    imp_op_var39_comer_ult1  imp_op_var39_comer_ult3  imp_op_var40_comer_ult1  \\\n",
       "10                -0.208291                -0.227918                -0.043196   \n",
       "14                -0.208291                -0.227918                -0.043196   \n",
       "18                -0.208291                -0.227918                -0.043196   \n",
       "29                -0.208291                -0.227918                -0.043196   \n",
       "80                -0.208291                -0.227918                -0.043196   \n",
       "\n",
       "    imp_op_var40_comer_ult3  imp_op_var40_efect_ult1  imp_op_var40_efect_ult3  \\\n",
       "10                -0.046181                -0.040202                -0.036714   \n",
       "14                -0.046181                -0.040202                -0.036714   \n",
       "18                -0.046181                -0.040202                -0.036714   \n",
       "29                -0.046181                -0.040202                -0.036714   \n",
       "80                -0.046181                -0.040202                -0.036714   \n",
       "\n",
       "    ...  saldo_medio_var13_corto_hace3  saldo_medio_var13_largo_hace2  \\\n",
       "10  ...                      -0.055948                      -0.043562   \n",
       "14  ...                      -0.055948                      -0.043562   \n",
       "18  ...                      -0.055948                      -0.043562   \n",
       "29  ...                      -0.055948                      -0.043562   \n",
       "80  ...                      -0.055948                      -0.043562   \n",
       "\n",
       "    saldo_medio_var13_largo_hace3  saldo_medio_var33_hace2  \\\n",
       "10                      -0.024608                -0.012503   \n",
       "14                      -0.024608                -0.012503   \n",
       "18                      -0.024608                -0.012503   \n",
       "29                      -0.024608                -0.012503   \n",
       "80                      -0.024608                -0.012503   \n",
       "\n",
       "    saldo_medio_var33_hace3  saldo_medio_var33_ult1  saldo_medio_var44_hace2  \\\n",
       "10                -0.008193               -0.012715                 -0.01133   \n",
       "14                -0.008193               -0.012715                 -0.01133   \n",
       "18                -0.008193               -0.012715                 -0.01133   \n",
       "29                -0.008193               -0.012715                 -0.01133   \n",
       "80                -0.008193               -0.012715                 -0.01133   \n",
       "\n",
       "    saldo_medio_var44_hace3  saldo_medio_var44_ult1     var38  \n",
       "10                -0.008997               -0.013473  0.068402  \n",
       "14                -0.008997               -0.013473 -0.082372  \n",
       "18                -0.008997               -0.013473  0.974407  \n",
       "29                -0.008997               -0.013473  0.101512  \n",
       "80                -0.008997               -0.013473  0.107538  \n",
       "\n",
       "[5 rows x 141 columns]"
      ]
     },
     "execution_count": 11,
     "metadata": {},
     "output_type": "execute_result"
    }
   ],
   "source": [
    "X_test.head()"
   ]
  },
  {
   "cell_type": "code",
   "execution_count": 12,
   "id": "63547e70",
   "metadata": {},
   "outputs": [
    {
     "name": "stdout",
     "output_type": "stream",
     "text": [
      "<class 'pandas.core.frame.DataFrame'>\n",
      "Int64Index: 4095 entries, 10 to 25085\n",
      "Columns: 141 entries, PCA1 to var38\n",
      "dtypes: float64(141)\n",
      "memory usage: 4.4 MB\n"
     ]
    }
   ],
   "source": [
    "X_test.info()"
   ]
  },
  {
   "cell_type": "markdown",
   "id": "be3027a4",
   "metadata": {},
   "source": [
    "> Modelos // _Models_"
   ]
  },
  {
   "cell_type": "code",
   "execution_count": 13,
   "id": "3ec34923",
   "metadata": {},
   "outputs": [
    {
     "name": "stdout",
     "output_type": "stream",
     "text": [
      "Valores faltantes nos dados de treino: 0\n",
      "Valores faltantes nos dados de teste: 0\n"
     ]
    }
   ],
   "source": [
    "# Checando valores faltantes // Checking missing values\n",
    "print(f'Valores faltantes nos dados de treino: {X_train.isnull().any().sum()}')\n",
    "print(f'Valores faltantes nos dados de teste: {X_test.isnull().any().sum()}')\n"
   ]
  },
  {
   "cell_type": "markdown",
   "id": "1cab8893",
   "metadata": {},
   "source": [
    "### Construção, Treinamento e Avaliação do Modelo 1 com Regressão Logística (Benchmark)\n",
    "### _Construction, Training and Evaluation of Model 1 with Logistic Regression (Benchmark)_"
   ]
  },
  {
   "cell_type": "code",
   "execution_count": 14,
   "id": "d4dcd20c",
   "metadata": {},
   "outputs": [
    {
     "data": {
      "text/html": [
       "<style>#sk-container-id-1 {color: black;background-color: white;}#sk-container-id-1 pre{padding: 0;}#sk-container-id-1 div.sk-toggleable {background-color: white;}#sk-container-id-1 label.sk-toggleable__label {cursor: pointer;display: block;width: 100%;margin-bottom: 0;padding: 0.3em;box-sizing: border-box;text-align: center;}#sk-container-id-1 label.sk-toggleable__label-arrow:before {content: \"▸\";float: left;margin-right: 0.25em;color: #696969;}#sk-container-id-1 label.sk-toggleable__label-arrow:hover:before {color: black;}#sk-container-id-1 div.sk-estimator:hover label.sk-toggleable__label-arrow:before {color: black;}#sk-container-id-1 div.sk-toggleable__content {max-height: 0;max-width: 0;overflow: hidden;text-align: left;background-color: #f0f8ff;}#sk-container-id-1 div.sk-toggleable__content pre {margin: 0.2em;color: black;border-radius: 0.25em;background-color: #f0f8ff;}#sk-container-id-1 input.sk-toggleable__control:checked~div.sk-toggleable__content {max-height: 200px;max-width: 100%;overflow: auto;}#sk-container-id-1 input.sk-toggleable__control:checked~label.sk-toggleable__label-arrow:before {content: \"▾\";}#sk-container-id-1 div.sk-estimator input.sk-toggleable__control:checked~label.sk-toggleable__label {background-color: #d4ebff;}#sk-container-id-1 div.sk-label input.sk-toggleable__control:checked~label.sk-toggleable__label {background-color: #d4ebff;}#sk-container-id-1 input.sk-hidden--visually {border: 0;clip: rect(1px 1px 1px 1px);clip: rect(1px, 1px, 1px, 1px);height: 1px;margin: -1px;overflow: hidden;padding: 0;position: absolute;width: 1px;}#sk-container-id-1 div.sk-estimator {font-family: monospace;background-color: #f0f8ff;border: 1px dotted black;border-radius: 0.25em;box-sizing: border-box;margin-bottom: 0.5em;}#sk-container-id-1 div.sk-estimator:hover {background-color: #d4ebff;}#sk-container-id-1 div.sk-parallel-item::after {content: \"\";width: 100%;border-bottom: 1px solid gray;flex-grow: 1;}#sk-container-id-1 div.sk-label:hover label.sk-toggleable__label {background-color: #d4ebff;}#sk-container-id-1 div.sk-serial::before {content: \"\";position: absolute;border-left: 1px solid gray;box-sizing: border-box;top: 0;bottom: 0;left: 50%;z-index: 0;}#sk-container-id-1 div.sk-serial {display: flex;flex-direction: column;align-items: center;background-color: white;padding-right: 0.2em;padding-left: 0.2em;position: relative;}#sk-container-id-1 div.sk-item {position: relative;z-index: 1;}#sk-container-id-1 div.sk-parallel {display: flex;align-items: stretch;justify-content: center;background-color: white;position: relative;}#sk-container-id-1 div.sk-item::before, #sk-container-id-1 div.sk-parallel-item::before {content: \"\";position: absolute;border-left: 1px solid gray;box-sizing: border-box;top: 0;bottom: 0;left: 50%;z-index: -1;}#sk-container-id-1 div.sk-parallel-item {display: flex;flex-direction: column;z-index: 1;position: relative;background-color: white;}#sk-container-id-1 div.sk-parallel-item:first-child::after {align-self: flex-end;width: 50%;}#sk-container-id-1 div.sk-parallel-item:last-child::after {align-self: flex-start;width: 50%;}#sk-container-id-1 div.sk-parallel-item:only-child::after {width: 0;}#sk-container-id-1 div.sk-dashed-wrapped {border: 1px dashed gray;margin: 0 0.4em 0.5em 0.4em;box-sizing: border-box;padding-bottom: 0.4em;background-color: white;}#sk-container-id-1 div.sk-label label {font-family: monospace;font-weight: bold;display: inline-block;line-height: 1.2em;}#sk-container-id-1 div.sk-label-container {text-align: center;}#sk-container-id-1 div.sk-container {/* jupyter's `normalize.less` sets `[hidden] { display: none; }` but bootstrap.min.css set `[hidden] { display: none !important; }` so we also need the `!important` here to be able to override the default hidden behavior on the sphinx rendered scikit-learn.org. See: https://github.com/scikit-learn/scikit-learn/issues/21755 */display: inline-block !important;position: relative;}#sk-container-id-1 div.sk-text-repr-fallback {display: none;}</style><div id=\"sk-container-id-1\" class=\"sk-top-container\"><div class=\"sk-text-repr-fallback\"><pre>GridSearchCV(estimator=LogisticRegression(), n_jobs=-1,\n",
       "             param_grid={&#x27;C&#x27;: [0.0001, 0.001, 0.01, 0.1, 1, 10, 100, 1000,\n",
       "                               10000]},\n",
       "             scoring=&#x27;roc_auc&#x27;)</pre><b>In a Jupyter environment, please rerun this cell to show the HTML representation or trust the notebook. <br />On GitHub, the HTML representation is unable to render, please try loading this page with nbviewer.org.</b></div><div class=\"sk-container\" hidden><div class=\"sk-item sk-dashed-wrapped\"><div class=\"sk-label-container\"><div class=\"sk-label sk-toggleable\"><input class=\"sk-toggleable__control sk-hidden--visually\" id=\"sk-estimator-id-1\" type=\"checkbox\" ><label for=\"sk-estimator-id-1\" class=\"sk-toggleable__label sk-toggleable__label-arrow\">GridSearchCV</label><div class=\"sk-toggleable__content\"><pre>GridSearchCV(estimator=LogisticRegression(), n_jobs=-1,\n",
       "             param_grid={&#x27;C&#x27;: [0.0001, 0.001, 0.01, 0.1, 1, 10, 100, 1000,\n",
       "                               10000]},\n",
       "             scoring=&#x27;roc_auc&#x27;)</pre></div></div></div><div class=\"sk-parallel\"><div class=\"sk-parallel-item\"><div class=\"sk-item\"><div class=\"sk-label-container\"><div class=\"sk-label sk-toggleable\"><input class=\"sk-toggleable__control sk-hidden--visually\" id=\"sk-estimator-id-2\" type=\"checkbox\" ><label for=\"sk-estimator-id-2\" class=\"sk-toggleable__label sk-toggleable__label-arrow\">estimator: LogisticRegression</label><div class=\"sk-toggleable__content\"><pre>LogisticRegression()</pre></div></div></div><div class=\"sk-serial\"><div class=\"sk-item\"><div class=\"sk-estimator sk-toggleable\"><input class=\"sk-toggleable__control sk-hidden--visually\" id=\"sk-estimator-id-3\" type=\"checkbox\" ><label for=\"sk-estimator-id-3\" class=\"sk-toggleable__label sk-toggleable__label-arrow\">LogisticRegression</label><div class=\"sk-toggleable__content\"><pre>LogisticRegression()</pre></div></div></div></div></div></div></div></div></div></div>"
      ],
      "text/plain": [
       "GridSearchCV(estimator=LogisticRegression(), n_jobs=-1,\n",
       "             param_grid={'C': [0.0001, 0.001, 0.01, 0.1, 1, 10, 100, 1000,\n",
       "                               10000]},\n",
       "             scoring='roc_auc')"
      ]
     },
     "execution_count": 14,
     "metadata": {},
     "output_type": "execute_result"
    }
   ],
   "source": [
    "# Treinamento do Modelo // Model Training\n",
    "\n",
    "# Define lista de hiperparâmetros // Define hyperparameter list\n",
    "tuned_params_v1 = {'C': [0.0001, 0.001, 0.01, 0.1, 1, 10, 100, 1000, 10000], \n",
    "                   #'penalty': ['l1', 'l2']\n",
    "                  }\n",
    "\n",
    "# Criação de modelo com GridSearch // Model creation with GridSearch\n",
    "model_v1 = GridSearchCV(LogisticRegression(), \n",
    "                         tuned_params_v1, \n",
    "                         scoring = 'roc_auc', \n",
    "                         n_jobs = -1) # n_jobs -1 para não impor limites para a execução\n",
    "\n",
    "# Treinamento  // Training\n",
    "model_v1.fit(X_train, y_train)"
   ]
  },
  {
   "cell_type": "code",
   "execution_count": 15,
   "id": "f355fd0f",
   "metadata": {},
   "outputs": [
    {
     "data": {
      "text/html": [
       "<style>#sk-container-id-2 {color: black;background-color: white;}#sk-container-id-2 pre{padding: 0;}#sk-container-id-2 div.sk-toggleable {background-color: white;}#sk-container-id-2 label.sk-toggleable__label {cursor: pointer;display: block;width: 100%;margin-bottom: 0;padding: 0.3em;box-sizing: border-box;text-align: center;}#sk-container-id-2 label.sk-toggleable__label-arrow:before {content: \"▸\";float: left;margin-right: 0.25em;color: #696969;}#sk-container-id-2 label.sk-toggleable__label-arrow:hover:before {color: black;}#sk-container-id-2 div.sk-estimator:hover label.sk-toggleable__label-arrow:before {color: black;}#sk-container-id-2 div.sk-toggleable__content {max-height: 0;max-width: 0;overflow: hidden;text-align: left;background-color: #f0f8ff;}#sk-container-id-2 div.sk-toggleable__content pre {margin: 0.2em;color: black;border-radius: 0.25em;background-color: #f0f8ff;}#sk-container-id-2 input.sk-toggleable__control:checked~div.sk-toggleable__content {max-height: 200px;max-width: 100%;overflow: auto;}#sk-container-id-2 input.sk-toggleable__control:checked~label.sk-toggleable__label-arrow:before {content: \"▾\";}#sk-container-id-2 div.sk-estimator input.sk-toggleable__control:checked~label.sk-toggleable__label {background-color: #d4ebff;}#sk-container-id-2 div.sk-label input.sk-toggleable__control:checked~label.sk-toggleable__label {background-color: #d4ebff;}#sk-container-id-2 input.sk-hidden--visually {border: 0;clip: rect(1px 1px 1px 1px);clip: rect(1px, 1px, 1px, 1px);height: 1px;margin: -1px;overflow: hidden;padding: 0;position: absolute;width: 1px;}#sk-container-id-2 div.sk-estimator {font-family: monospace;background-color: #f0f8ff;border: 1px dotted black;border-radius: 0.25em;box-sizing: border-box;margin-bottom: 0.5em;}#sk-container-id-2 div.sk-estimator:hover {background-color: #d4ebff;}#sk-container-id-2 div.sk-parallel-item::after {content: \"\";width: 100%;border-bottom: 1px solid gray;flex-grow: 1;}#sk-container-id-2 div.sk-label:hover label.sk-toggleable__label {background-color: #d4ebff;}#sk-container-id-2 div.sk-serial::before {content: \"\";position: absolute;border-left: 1px solid gray;box-sizing: border-box;top: 0;bottom: 0;left: 50%;z-index: 0;}#sk-container-id-2 div.sk-serial {display: flex;flex-direction: column;align-items: center;background-color: white;padding-right: 0.2em;padding-left: 0.2em;position: relative;}#sk-container-id-2 div.sk-item {position: relative;z-index: 1;}#sk-container-id-2 div.sk-parallel {display: flex;align-items: stretch;justify-content: center;background-color: white;position: relative;}#sk-container-id-2 div.sk-item::before, #sk-container-id-2 div.sk-parallel-item::before {content: \"\";position: absolute;border-left: 1px solid gray;box-sizing: border-box;top: 0;bottom: 0;left: 50%;z-index: -1;}#sk-container-id-2 div.sk-parallel-item {display: flex;flex-direction: column;z-index: 1;position: relative;background-color: white;}#sk-container-id-2 div.sk-parallel-item:first-child::after {align-self: flex-end;width: 50%;}#sk-container-id-2 div.sk-parallel-item:last-child::after {align-self: flex-start;width: 50%;}#sk-container-id-2 div.sk-parallel-item:only-child::after {width: 0;}#sk-container-id-2 div.sk-dashed-wrapped {border: 1px dashed gray;margin: 0 0.4em 0.5em 0.4em;box-sizing: border-box;padding-bottom: 0.4em;background-color: white;}#sk-container-id-2 div.sk-label label {font-family: monospace;font-weight: bold;display: inline-block;line-height: 1.2em;}#sk-container-id-2 div.sk-label-container {text-align: center;}#sk-container-id-2 div.sk-container {/* jupyter's `normalize.less` sets `[hidden] { display: none; }` but bootstrap.min.css set `[hidden] { display: none !important; }` so we also need the `!important` here to be able to override the default hidden behavior on the sphinx rendered scikit-learn.org. See: https://github.com/scikit-learn/scikit-learn/issues/21755 */display: inline-block !important;position: relative;}#sk-container-id-2 div.sk-text-repr-fallback {display: none;}</style><div id=\"sk-container-id-2\" class=\"sk-top-container\"><div class=\"sk-text-repr-fallback\"><pre>LogisticRegression(C=10)</pre><b>In a Jupyter environment, please rerun this cell to show the HTML representation or trust the notebook. <br />On GitHub, the HTML representation is unable to render, please try loading this page with nbviewer.org.</b></div><div class=\"sk-container\" hidden><div class=\"sk-item\"><div class=\"sk-estimator sk-toggleable\"><input class=\"sk-toggleable__control sk-hidden--visually\" id=\"sk-estimator-id-4\" type=\"checkbox\" checked><label for=\"sk-estimator-id-4\" class=\"sk-toggleable__label sk-toggleable__label-arrow\">LogisticRegression</label><div class=\"sk-toggleable__content\"><pre>LogisticRegression(C=10)</pre></div></div></div></div></div>"
      ],
      "text/plain": [
       "LogisticRegression(C=10)"
      ]
     },
     "execution_count": 15,
     "metadata": {},
     "output_type": "execute_result"
    }
   ],
   "source": [
    "# Seleção do melhor modelo // Selection of the best model\n",
    "model_v1.best_estimator_"
   ]
  },
  {
   "cell_type": "code",
   "execution_count": 16,
   "id": "c33b6fae",
   "metadata": {},
   "outputs": [
    {
     "data": {
      "text/html": [
       "<style>#sk-container-id-3 {color: black;background-color: white;}#sk-container-id-3 pre{padding: 0;}#sk-container-id-3 div.sk-toggleable {background-color: white;}#sk-container-id-3 label.sk-toggleable__label {cursor: pointer;display: block;width: 100%;margin-bottom: 0;padding: 0.3em;box-sizing: border-box;text-align: center;}#sk-container-id-3 label.sk-toggleable__label-arrow:before {content: \"▸\";float: left;margin-right: 0.25em;color: #696969;}#sk-container-id-3 label.sk-toggleable__label-arrow:hover:before {color: black;}#sk-container-id-3 div.sk-estimator:hover label.sk-toggleable__label-arrow:before {color: black;}#sk-container-id-3 div.sk-toggleable__content {max-height: 0;max-width: 0;overflow: hidden;text-align: left;background-color: #f0f8ff;}#sk-container-id-3 div.sk-toggleable__content pre {margin: 0.2em;color: black;border-radius: 0.25em;background-color: #f0f8ff;}#sk-container-id-3 input.sk-toggleable__control:checked~div.sk-toggleable__content {max-height: 200px;max-width: 100%;overflow: auto;}#sk-container-id-3 input.sk-toggleable__control:checked~label.sk-toggleable__label-arrow:before {content: \"▾\";}#sk-container-id-3 div.sk-estimator input.sk-toggleable__control:checked~label.sk-toggleable__label {background-color: #d4ebff;}#sk-container-id-3 div.sk-label input.sk-toggleable__control:checked~label.sk-toggleable__label {background-color: #d4ebff;}#sk-container-id-3 input.sk-hidden--visually {border: 0;clip: rect(1px 1px 1px 1px);clip: rect(1px, 1px, 1px, 1px);height: 1px;margin: -1px;overflow: hidden;padding: 0;position: absolute;width: 1px;}#sk-container-id-3 div.sk-estimator {font-family: monospace;background-color: #f0f8ff;border: 1px dotted black;border-radius: 0.25em;box-sizing: border-box;margin-bottom: 0.5em;}#sk-container-id-3 div.sk-estimator:hover {background-color: #d4ebff;}#sk-container-id-3 div.sk-parallel-item::after {content: \"\";width: 100%;border-bottom: 1px solid gray;flex-grow: 1;}#sk-container-id-3 div.sk-label:hover label.sk-toggleable__label {background-color: #d4ebff;}#sk-container-id-3 div.sk-serial::before {content: \"\";position: absolute;border-left: 1px solid gray;box-sizing: border-box;top: 0;bottom: 0;left: 50%;z-index: 0;}#sk-container-id-3 div.sk-serial {display: flex;flex-direction: column;align-items: center;background-color: white;padding-right: 0.2em;padding-left: 0.2em;position: relative;}#sk-container-id-3 div.sk-item {position: relative;z-index: 1;}#sk-container-id-3 div.sk-parallel {display: flex;align-items: stretch;justify-content: center;background-color: white;position: relative;}#sk-container-id-3 div.sk-item::before, #sk-container-id-3 div.sk-parallel-item::before {content: \"\";position: absolute;border-left: 1px solid gray;box-sizing: border-box;top: 0;bottom: 0;left: 50%;z-index: -1;}#sk-container-id-3 div.sk-parallel-item {display: flex;flex-direction: column;z-index: 1;position: relative;background-color: white;}#sk-container-id-3 div.sk-parallel-item:first-child::after {align-self: flex-end;width: 50%;}#sk-container-id-3 div.sk-parallel-item:last-child::after {align-self: flex-start;width: 50%;}#sk-container-id-3 div.sk-parallel-item:only-child::after {width: 0;}#sk-container-id-3 div.sk-dashed-wrapped {border: 1px dashed gray;margin: 0 0.4em 0.5em 0.4em;box-sizing: border-box;padding-bottom: 0.4em;background-color: white;}#sk-container-id-3 div.sk-label label {font-family: monospace;font-weight: bold;display: inline-block;line-height: 1.2em;}#sk-container-id-3 div.sk-label-container {text-align: center;}#sk-container-id-3 div.sk-container {/* jupyter's `normalize.less` sets `[hidden] { display: none; }` but bootstrap.min.css set `[hidden] { display: none !important; }` so we also need the `!important` here to be able to override the default hidden behavior on the sphinx rendered scikit-learn.org. See: https://github.com/scikit-learn/scikit-learn/issues/21755 */display: inline-block !important;position: relative;}#sk-container-id-3 div.sk-text-repr-fallback {display: none;}</style><div id=\"sk-container-id-3\" class=\"sk-top-container\"><div class=\"sk-text-repr-fallback\"><pre>LogisticRegression(C=10)</pre><b>In a Jupyter environment, please rerun this cell to show the HTML representation or trust the notebook. <br />On GitHub, the HTML representation is unable to render, please try loading this page with nbviewer.org.</b></div><div class=\"sk-container\" hidden><div class=\"sk-item\"><div class=\"sk-estimator sk-toggleable\"><input class=\"sk-toggleable__control sk-hidden--visually\" id=\"sk-estimator-id-5\" type=\"checkbox\" checked><label for=\"sk-estimator-id-5\" class=\"sk-toggleable__label sk-toggleable__label-arrow\">LogisticRegression</label><div class=\"sk-toggleable__content\"><pre>LogisticRegression(C=10)</pre></div></div></div></div></div>"
      ],
      "text/plain": [
       "LogisticRegression(C=10)"
      ]
     },
     "execution_count": 16,
     "metadata": {},
     "output_type": "execute_result"
    }
   ],
   "source": [
    "# Treinamento // Training\n",
    "\n",
    "# Construindo o modelo novamente com os melhores hiperparâmetros // Building the model again with the best hyperparameters\n",
    "# Isso é necessário pois a versão final não deve ter o GridSearchCV\n",
    "\n",
    "model_v1 = LogisticRegression(C = 10)\n",
    "model_v1.fit(X_train, y_train)"
   ]
  },
  {
   "cell_type": "code",
   "execution_count": 17,
   "id": "62b87af4",
   "metadata": {},
   "outputs": [],
   "source": [
    "# Previsões com dados de teste // Predictions with test data\n",
    "\n",
    "# Previsões\n",
    "y_pred_v1 = model_v1.predict(X_test)\n",
    "\n",
    "# Previsões no formato de probabilidade para cada classe\n",
    "y_pred_proba_v1 = model_v1.predict_proba(X_test)\n",
    "\n",
    "# Previsões no formato de probabilidade filtrando para a classe positiva (para calcular Curva ROC)\n",
    "y_pred_proba_v1 = model_v1.predict_proba(X_test)[:,1]\n"
   ]
  },
  {
   "cell_type": "code",
   "execution_count": 18,
   "id": "9c77f371",
   "metadata": {},
   "outputs": [
    {
     "name": "stdout",
     "output_type": "stream",
     "text": [
      "[[2925 1004]\n",
      " [  75   91]] 0.6463285056745179 0.6966486459965594 0.7365079365079366\n"
     ]
    }
   ],
   "source": [
    "# Chama função para avaliação do modelo // Call function for model evaluation\n",
    "cm_v1, roc_auc_v1, auc_v1, accuracy_v1 = evaluate_classification_model(y_test, y_pred_v1, y_pred_proba_v1)\n",
    "print(cm_v1, roc_auc_v1, auc_v1, accuracy_v1)"
   ]
  },
  {
   "cell_type": "code",
   "execution_count": 19,
   "id": "b264e560",
   "metadata": {},
   "outputs": [
    {
     "name": "stdout",
     "output_type": "stream",
     "text": [
      "Top 10 - Variáveis mais importantes para o resultado do modelo:\n",
      "--------------------------------------------------\n",
      "saldo_medio_var5_hace2\n",
      "saldo_medio_var5_ult1\n",
      "saldo_medio_var5_ult3\n",
      "var15\n",
      "saldo_medio_var5_hace3\n",
      "num_aport_var13_hace3\n",
      "saldo_medio_var13_largo_hace2\n",
      "saldo_medio_var44_hace2\n",
      "saldo_medio_var8_hace3\n",
      "saldo_medio_var8_hace2\n"
     ]
    }
   ],
   "source": [
    "# Feature Importance\n",
    "\n",
    "feature_importance(model_v1, X_train.columns)"
   ]
  },
  {
   "cell_type": "raw",
   "id": "175934c5",
   "metadata": {},
   "source": [
    "# Salva o modelo em disco // Save the model to disk\n",
    "save_model('model_v1', model_v1)"
   ]
  },
  {
   "cell_type": "code",
   "execution_count": 21,
   "id": "37edf1a4",
   "metadata": {},
   "outputs": [
    {
     "data": {
      "text/html": [
       "<div>\n",
       "<style scoped>\n",
       "    .dataframe tbody tr th:only-of-type {\n",
       "        vertical-align: middle;\n",
       "    }\n",
       "\n",
       "    .dataframe tbody tr th {\n",
       "        vertical-align: top;\n",
       "    }\n",
       "\n",
       "    .dataframe thead th {\n",
       "        text-align: right;\n",
       "    }\n",
       "</style>\n",
       "<table border=\"1\" class=\"dataframe\">\n",
       "  <thead>\n",
       "    <tr style=\"text-align: right;\">\n",
       "      <th></th>\n",
       "      <th>Nome</th>\n",
       "      <th>Algoritmo</th>\n",
       "      <th>ROC_AUC Score</th>\n",
       "      <th>AUC Score</th>\n",
       "      <th>Acurácia</th>\n",
       "    </tr>\n",
       "  </thead>\n",
       "  <tbody>\n",
       "    <tr>\n",
       "      <th>0</th>\n",
       "      <td>modelo_v1</td>\n",
       "      <td>Regressão Logística</td>\n",
       "      <td>0.646329</td>\n",
       "      <td>0.696649</td>\n",
       "      <td>0.736508</td>\n",
       "    </tr>\n",
       "  </tbody>\n",
       "</table>\n",
       "</div>"
      ],
      "text/plain": [
       "        Nome            Algoritmo ROC_AUC Score AUC Score  Acurácia\n",
       "0  modelo_v1  Regressão Logística      0.646329  0.696649  0.736508"
      ]
     },
     "metadata": {},
     "output_type": "display_data"
    }
   ],
   "source": [
    "# Consolidação da avaliação para comparação dos modelos // Consolidation of the evaluation to compare the models\n",
    "\n",
    "# Cria um dataframe para receber as métricas de cada modelo\n",
    "df_models = pd.DataFrame()\n",
    "\n",
    "# Dicionário com as métricas do modelo_v1\n",
    "dict_model_v1 = {'Nome': 'modelo_v1', \n",
    "                 'Algoritmo': 'Regressão Logística', \n",
    "                 'ROC_AUC Score': roc_auc_v1,\n",
    "                 'AUC Score': auc_v1,\n",
    "                 'Acurácia': accuracy_v1}\n",
    "dict_model_v1 = pd.DataFrame.from_dict(dict_model_v1, orient='index').T\n",
    "\n",
    "# Adiciona o dict ao dataframe\n",
    "df_models = dict_model_v1\n",
    "\n",
    "display(df_models)"
   ]
  },
  {
   "cell_type": "markdown",
   "id": "4734cc14",
   "metadata": {},
   "source": [
    "### Construção, Treinamento e Avaliação do Modelo 2 com Random Forest\n",
    "#### _Construction, Training and Evaluation of Model 2 with Random Forest_"
   ]
  },
  {
   "cell_type": "code",
   "execution_count": 22,
   "id": "0dcaa102",
   "metadata": {},
   "outputs": [
    {
     "data": {
      "text/html": [
       "<style>#sk-container-id-4 {color: black;background-color: white;}#sk-container-id-4 pre{padding: 0;}#sk-container-id-4 div.sk-toggleable {background-color: white;}#sk-container-id-4 label.sk-toggleable__label {cursor: pointer;display: block;width: 100%;margin-bottom: 0;padding: 0.3em;box-sizing: border-box;text-align: center;}#sk-container-id-4 label.sk-toggleable__label-arrow:before {content: \"▸\";float: left;margin-right: 0.25em;color: #696969;}#sk-container-id-4 label.sk-toggleable__label-arrow:hover:before {color: black;}#sk-container-id-4 div.sk-estimator:hover label.sk-toggleable__label-arrow:before {color: black;}#sk-container-id-4 div.sk-toggleable__content {max-height: 0;max-width: 0;overflow: hidden;text-align: left;background-color: #f0f8ff;}#sk-container-id-4 div.sk-toggleable__content pre {margin: 0.2em;color: black;border-radius: 0.25em;background-color: #f0f8ff;}#sk-container-id-4 input.sk-toggleable__control:checked~div.sk-toggleable__content {max-height: 200px;max-width: 100%;overflow: auto;}#sk-container-id-4 input.sk-toggleable__control:checked~label.sk-toggleable__label-arrow:before {content: \"▾\";}#sk-container-id-4 div.sk-estimator input.sk-toggleable__control:checked~label.sk-toggleable__label {background-color: #d4ebff;}#sk-container-id-4 div.sk-label input.sk-toggleable__control:checked~label.sk-toggleable__label {background-color: #d4ebff;}#sk-container-id-4 input.sk-hidden--visually {border: 0;clip: rect(1px 1px 1px 1px);clip: rect(1px, 1px, 1px, 1px);height: 1px;margin: -1px;overflow: hidden;padding: 0;position: absolute;width: 1px;}#sk-container-id-4 div.sk-estimator {font-family: monospace;background-color: #f0f8ff;border: 1px dotted black;border-radius: 0.25em;box-sizing: border-box;margin-bottom: 0.5em;}#sk-container-id-4 div.sk-estimator:hover {background-color: #d4ebff;}#sk-container-id-4 div.sk-parallel-item::after {content: \"\";width: 100%;border-bottom: 1px solid gray;flex-grow: 1;}#sk-container-id-4 div.sk-label:hover label.sk-toggleable__label {background-color: #d4ebff;}#sk-container-id-4 div.sk-serial::before {content: \"\";position: absolute;border-left: 1px solid gray;box-sizing: border-box;top: 0;bottom: 0;left: 50%;z-index: 0;}#sk-container-id-4 div.sk-serial {display: flex;flex-direction: column;align-items: center;background-color: white;padding-right: 0.2em;padding-left: 0.2em;position: relative;}#sk-container-id-4 div.sk-item {position: relative;z-index: 1;}#sk-container-id-4 div.sk-parallel {display: flex;align-items: stretch;justify-content: center;background-color: white;position: relative;}#sk-container-id-4 div.sk-item::before, #sk-container-id-4 div.sk-parallel-item::before {content: \"\";position: absolute;border-left: 1px solid gray;box-sizing: border-box;top: 0;bottom: 0;left: 50%;z-index: -1;}#sk-container-id-4 div.sk-parallel-item {display: flex;flex-direction: column;z-index: 1;position: relative;background-color: white;}#sk-container-id-4 div.sk-parallel-item:first-child::after {align-self: flex-end;width: 50%;}#sk-container-id-4 div.sk-parallel-item:last-child::after {align-self: flex-start;width: 50%;}#sk-container-id-4 div.sk-parallel-item:only-child::after {width: 0;}#sk-container-id-4 div.sk-dashed-wrapped {border: 1px dashed gray;margin: 0 0.4em 0.5em 0.4em;box-sizing: border-box;padding-bottom: 0.4em;background-color: white;}#sk-container-id-4 div.sk-label label {font-family: monospace;font-weight: bold;display: inline-block;line-height: 1.2em;}#sk-container-id-4 div.sk-label-container {text-align: center;}#sk-container-id-4 div.sk-container {/* jupyter's `normalize.less` sets `[hidden] { display: none; }` but bootstrap.min.css set `[hidden] { display: none !important; }` so we also need the `!important` here to be able to override the default hidden behavior on the sphinx rendered scikit-learn.org. See: https://github.com/scikit-learn/scikit-learn/issues/21755 */display: inline-block !important;position: relative;}#sk-container-id-4 div.sk-text-repr-fallback {display: none;}</style><div id=\"sk-container-id-4\" class=\"sk-top-container\"><div class=\"sk-text-repr-fallback\"><pre>RandomForestClassifier(criterion=&#x27;entropy&#x27;, max_features=10, min_samples_leaf=3,\n",
       "                       min_samples_split=6, n_estimators=300)</pre><b>In a Jupyter environment, please rerun this cell to show the HTML representation or trust the notebook. <br />On GitHub, the HTML representation is unable to render, please try loading this page with nbviewer.org.</b></div><div class=\"sk-container\" hidden><div class=\"sk-item\"><div class=\"sk-estimator sk-toggleable\"><input class=\"sk-toggleable__control sk-hidden--visually\" id=\"sk-estimator-id-6\" type=\"checkbox\" checked><label for=\"sk-estimator-id-6\" class=\"sk-toggleable__label sk-toggleable__label-arrow\">RandomForestClassifier</label><div class=\"sk-toggleable__content\"><pre>RandomForestClassifier(criterion=&#x27;entropy&#x27;, max_features=10, min_samples_leaf=3,\n",
       "                       min_samples_split=6, n_estimators=300)</pre></div></div></div></div></div>"
      ],
      "text/plain": [
       "RandomForestClassifier(criterion='entropy', max_features=10, min_samples_leaf=3,\n",
       "                       min_samples_split=6, n_estimators=300)"
      ]
     },
     "execution_count": 22,
     "metadata": {},
     "output_type": "execute_result"
    }
   ],
   "source": [
    "# Chama função para seleção de hiperparâmetros com Random Forest \n",
    "# Call function for selection of hyperparameters with Random Forest\n",
    "random_forest_param_selection(X_train, y_train)\n"
   ]
  },
  {
   "cell_type": "code",
   "execution_count": 23,
   "id": "fbbfb4b2",
   "metadata": {},
   "outputs": [
    {
     "data": {
      "text/html": [
       "<style>#sk-container-id-5 {color: black;background-color: white;}#sk-container-id-5 pre{padding: 0;}#sk-container-id-5 div.sk-toggleable {background-color: white;}#sk-container-id-5 label.sk-toggleable__label {cursor: pointer;display: block;width: 100%;margin-bottom: 0;padding: 0.3em;box-sizing: border-box;text-align: center;}#sk-container-id-5 label.sk-toggleable__label-arrow:before {content: \"▸\";float: left;margin-right: 0.25em;color: #696969;}#sk-container-id-5 label.sk-toggleable__label-arrow:hover:before {color: black;}#sk-container-id-5 div.sk-estimator:hover label.sk-toggleable__label-arrow:before {color: black;}#sk-container-id-5 div.sk-toggleable__content {max-height: 0;max-width: 0;overflow: hidden;text-align: left;background-color: #f0f8ff;}#sk-container-id-5 div.sk-toggleable__content pre {margin: 0.2em;color: black;border-radius: 0.25em;background-color: #f0f8ff;}#sk-container-id-5 input.sk-toggleable__control:checked~div.sk-toggleable__content {max-height: 200px;max-width: 100%;overflow: auto;}#sk-container-id-5 input.sk-toggleable__control:checked~label.sk-toggleable__label-arrow:before {content: \"▾\";}#sk-container-id-5 div.sk-estimator input.sk-toggleable__control:checked~label.sk-toggleable__label {background-color: #d4ebff;}#sk-container-id-5 div.sk-label input.sk-toggleable__control:checked~label.sk-toggleable__label {background-color: #d4ebff;}#sk-container-id-5 input.sk-hidden--visually {border: 0;clip: rect(1px 1px 1px 1px);clip: rect(1px, 1px, 1px, 1px);height: 1px;margin: -1px;overflow: hidden;padding: 0;position: absolute;width: 1px;}#sk-container-id-5 div.sk-estimator {font-family: monospace;background-color: #f0f8ff;border: 1px dotted black;border-radius: 0.25em;box-sizing: border-box;margin-bottom: 0.5em;}#sk-container-id-5 div.sk-estimator:hover {background-color: #d4ebff;}#sk-container-id-5 div.sk-parallel-item::after {content: \"\";width: 100%;border-bottom: 1px solid gray;flex-grow: 1;}#sk-container-id-5 div.sk-label:hover label.sk-toggleable__label {background-color: #d4ebff;}#sk-container-id-5 div.sk-serial::before {content: \"\";position: absolute;border-left: 1px solid gray;box-sizing: border-box;top: 0;bottom: 0;left: 50%;z-index: 0;}#sk-container-id-5 div.sk-serial {display: flex;flex-direction: column;align-items: center;background-color: white;padding-right: 0.2em;padding-left: 0.2em;position: relative;}#sk-container-id-5 div.sk-item {position: relative;z-index: 1;}#sk-container-id-5 div.sk-parallel {display: flex;align-items: stretch;justify-content: center;background-color: white;position: relative;}#sk-container-id-5 div.sk-item::before, #sk-container-id-5 div.sk-parallel-item::before {content: \"\";position: absolute;border-left: 1px solid gray;box-sizing: border-box;top: 0;bottom: 0;left: 50%;z-index: -1;}#sk-container-id-5 div.sk-parallel-item {display: flex;flex-direction: column;z-index: 1;position: relative;background-color: white;}#sk-container-id-5 div.sk-parallel-item:first-child::after {align-self: flex-end;width: 50%;}#sk-container-id-5 div.sk-parallel-item:last-child::after {align-self: flex-start;width: 50%;}#sk-container-id-5 div.sk-parallel-item:only-child::after {width: 0;}#sk-container-id-5 div.sk-dashed-wrapped {border: 1px dashed gray;margin: 0 0.4em 0.5em 0.4em;box-sizing: border-box;padding-bottom: 0.4em;background-color: white;}#sk-container-id-5 div.sk-label label {font-family: monospace;font-weight: bold;display: inline-block;line-height: 1.2em;}#sk-container-id-5 div.sk-label-container {text-align: center;}#sk-container-id-5 div.sk-container {/* jupyter's `normalize.less` sets `[hidden] { display: none; }` but bootstrap.min.css set `[hidden] { display: none !important; }` so we also need the `!important` here to be able to override the default hidden behavior on the sphinx rendered scikit-learn.org. See: https://github.com/scikit-learn/scikit-learn/issues/21755 */display: inline-block !important;position: relative;}#sk-container-id-5 div.sk-text-repr-fallback {display: none;}</style><div id=\"sk-container-id-5\" class=\"sk-top-container\"><div class=\"sk-text-repr-fallback\"><pre>RandomForestClassifier(criterion=&#x27;entropy&#x27;, max_features=10, min_samples_leaf=3,\n",
       "                       min_samples_split=6, n_estimators=300)</pre><b>In a Jupyter environment, please rerun this cell to show the HTML representation or trust the notebook. <br />On GitHub, the HTML representation is unable to render, please try loading this page with nbviewer.org.</b></div><div class=\"sk-container\" hidden><div class=\"sk-item\"><div class=\"sk-estimator sk-toggleable\"><input class=\"sk-toggleable__control sk-hidden--visually\" id=\"sk-estimator-id-7\" type=\"checkbox\" checked><label for=\"sk-estimator-id-7\" class=\"sk-toggleable__label sk-toggleable__label-arrow\">RandomForestClassifier</label><div class=\"sk-toggleable__content\"><pre>RandomForestClassifier(criterion=&#x27;entropy&#x27;, max_features=10, min_samples_leaf=3,\n",
       "                       min_samples_split=6, n_estimators=300)</pre></div></div></div></div></div>"
      ],
      "text/plain": [
       "RandomForestClassifier(criterion='entropy', max_features=10, min_samples_leaf=3,\n",
       "                       min_samples_split=6, n_estimators=300)"
      ]
     },
     "execution_count": 23,
     "metadata": {},
     "output_type": "execute_result"
    }
   ],
   "source": [
    "# Treinamento // Training\n",
    "\n",
    "# Construindo o modelo novamente com os melhores hiperparâmetros\n",
    "# Isso é necessário pois a versão final não deve ter o GridSearchCV\n",
    "model_v2 = RandomForestClassifier(criterion='entropy', max_features=10, min_samples_leaf=3,\n",
    "                       min_samples_split=6, n_estimators=300)\n",
    "model_v2.fit(X_train, y_train)\n"
   ]
  },
  {
   "cell_type": "code",
   "execution_count": 24,
   "id": "fe4925b4",
   "metadata": {},
   "outputs": [],
   "source": [
    "# Previsões em teste // Test predictions\n",
    "\n",
    "# Previsões\n",
    "y_pred_v2 = model_v2.predict(X_test)\n",
    "\n",
    "# Obtém as previsões para a classe positiva\n",
    "y_pred_proba_v2 = model_v2.predict_proba(X_test)[:,1]"
   ]
  },
  {
   "cell_type": "code",
   "execution_count": 25,
   "id": "188ccfe9",
   "metadata": {},
   "outputs": [
    {
     "name": "stdout",
     "output_type": "stream",
     "text": [
      "[[3356  573]\n",
      " [  82   84]] 0.6800927303001776 0.7525030128148122 0.8400488400488401\n"
     ]
    }
   ],
   "source": [
    "# Avaliação do modelo // Model evaluation\n",
    "cm_v2, roc_auc_v2, auc_v2, accuracy_v2 = evaluate_classification_model(y_test, y_pred_v2, y_pred_proba_v2)\n",
    "print(cm_v2, roc_auc_v2, auc_v2, accuracy_v2)"
   ]
  },
  {
   "cell_type": "code",
   "execution_count": 26,
   "id": "3c1ff3e5",
   "metadata": {},
   "outputs": [
    {
     "name": "stdout",
     "output_type": "stream",
     "text": [
      "Variáveis mais importantes para o resultado do modelo_v2:\n",
      "--------------------------------------------------\n",
      "var15\n",
      "PCA2\n",
      "PCA1\n",
      "var38\n",
      "num_var45_hace3\n",
      "saldo_var30\n",
      "num_var4\n",
      "num_med_var22_ult3\n",
      "saldo_medio_var5_ult3\n",
      "num_med_var45_ult3\n"
     ]
    }
   ],
   "source": [
    "# Feature Importance\n",
    "\n",
    "# Construindo o modelo novamente com os melhores hiperparâmetros\n",
    "# Isso é necessário pois a versão final não deve ter o GridSearchCV\n",
    "model_v2 = RandomForestClassifier(min_samples_split=10, n_estimators=500)\n",
    "model_v2.fit(X_train, y_train)\n",
    "\n",
    "# Variáveis mais relevantes\n",
    "indices = np.argsort(-model_v2.feature_importances_)\n",
    "print(\"Variáveis mais importantes para o resultado do modelo_v2:\")\n",
    "print(50*'-')\n",
    "for feature in X_train.columns[indices][:10]:\n",
    "    print(feature)"
   ]
  },
  {
   "cell_type": "raw",
   "id": "06a69faa",
   "metadata": {},
   "source": [
    "# Salva o modelo em disco // Save the model to disk\n",
    "save_model('model_v2', model_v2)"
   ]
  },
  {
   "cell_type": "code",
   "execution_count": 28,
   "id": "268c47c5",
   "metadata": {},
   "outputs": [
    {
     "data": {
      "text/html": [
       "<div>\n",
       "<style scoped>\n",
       "    .dataframe tbody tr th:only-of-type {\n",
       "        vertical-align: middle;\n",
       "    }\n",
       "\n",
       "    .dataframe tbody tr th {\n",
       "        vertical-align: top;\n",
       "    }\n",
       "\n",
       "    .dataframe thead th {\n",
       "        text-align: right;\n",
       "    }\n",
       "</style>\n",
       "<table border=\"1\" class=\"dataframe\">\n",
       "  <thead>\n",
       "    <tr style=\"text-align: right;\">\n",
       "      <th></th>\n",
       "      <th>Nome</th>\n",
       "      <th>Algoritmo</th>\n",
       "      <th>ROC_AUC Score</th>\n",
       "      <th>AUC Score</th>\n",
       "      <th>Acurácia</th>\n",
       "    </tr>\n",
       "  </thead>\n",
       "  <tbody>\n",
       "    <tr>\n",
       "      <th>0</th>\n",
       "      <td>modelo_v1</td>\n",
       "      <td>Regressão Logística</td>\n",
       "      <td>0.646329</td>\n",
       "      <td>0.696649</td>\n",
       "      <td>0.736508</td>\n",
       "    </tr>\n",
       "    <tr>\n",
       "      <th>0</th>\n",
       "      <td>modelo_v2</td>\n",
       "      <td>Random Forest</td>\n",
       "      <td>0.680093</td>\n",
       "      <td>0.752503</td>\n",
       "      <td>0.840049</td>\n",
       "    </tr>\n",
       "  </tbody>\n",
       "</table>\n",
       "</div>"
      ],
      "text/plain": [
       "        Nome            Algoritmo ROC_AUC Score AUC Score  Acurácia\n",
       "0  modelo_v1  Regressão Logística      0.646329  0.696649  0.736508\n",
       "0  modelo_v2        Random Forest      0.680093  0.752503  0.840049"
      ]
     },
     "metadata": {},
     "output_type": "display_data"
    }
   ],
   "source": [
    "# Dicionário com as métricas do modelo_v2 // Dictionary with model_v2 metrics\n",
    "\n",
    "dict_model_v2 = {'Nome': 'modelo_v2', \n",
    "                 'Algoritmo': 'Random Forest', \n",
    "                 'ROC_AUC Score': roc_auc_v2,\n",
    "                 'AUC Score': auc_v2,\n",
    "                 'Acurácia': accuracy_v2}\n",
    "\n",
    "# Adiciona o dict ao dataframe de consolidação das métricas\n",
    "dict_model_v2 = pd.DataFrame.from_dict(dict_model_v2, orient='index').T\n",
    "df_list = [df_models, dict_model_v2]\n",
    "df_models = pd.concat(df_list)\n",
    "\n",
    "display(df_models)"
   ]
  },
  {
   "cell_type": "markdown",
   "id": "e80a74e3",
   "metadata": {},
   "source": [
    "### Construção, Treinamento e Avaliação do Modelo 3 com Decision Tree\n",
    "#### _Construction, Training and Evaluation of Model 3 with Decision Tree_"
   ]
  },
  {
   "cell_type": "code",
   "execution_count": 29,
   "id": "9664c232",
   "metadata": {},
   "outputs": [
    {
     "data": {
      "text/html": [
       "<style>#sk-container-id-6 {color: black;background-color: white;}#sk-container-id-6 pre{padding: 0;}#sk-container-id-6 div.sk-toggleable {background-color: white;}#sk-container-id-6 label.sk-toggleable__label {cursor: pointer;display: block;width: 100%;margin-bottom: 0;padding: 0.3em;box-sizing: border-box;text-align: center;}#sk-container-id-6 label.sk-toggleable__label-arrow:before {content: \"▸\";float: left;margin-right: 0.25em;color: #696969;}#sk-container-id-6 label.sk-toggleable__label-arrow:hover:before {color: black;}#sk-container-id-6 div.sk-estimator:hover label.sk-toggleable__label-arrow:before {color: black;}#sk-container-id-6 div.sk-toggleable__content {max-height: 0;max-width: 0;overflow: hidden;text-align: left;background-color: #f0f8ff;}#sk-container-id-6 div.sk-toggleable__content pre {margin: 0.2em;color: black;border-radius: 0.25em;background-color: #f0f8ff;}#sk-container-id-6 input.sk-toggleable__control:checked~div.sk-toggleable__content {max-height: 200px;max-width: 100%;overflow: auto;}#sk-container-id-6 input.sk-toggleable__control:checked~label.sk-toggleable__label-arrow:before {content: \"▾\";}#sk-container-id-6 div.sk-estimator input.sk-toggleable__control:checked~label.sk-toggleable__label {background-color: #d4ebff;}#sk-container-id-6 div.sk-label input.sk-toggleable__control:checked~label.sk-toggleable__label {background-color: #d4ebff;}#sk-container-id-6 input.sk-hidden--visually {border: 0;clip: rect(1px 1px 1px 1px);clip: rect(1px, 1px, 1px, 1px);height: 1px;margin: -1px;overflow: hidden;padding: 0;position: absolute;width: 1px;}#sk-container-id-6 div.sk-estimator {font-family: monospace;background-color: #f0f8ff;border: 1px dotted black;border-radius: 0.25em;box-sizing: border-box;margin-bottom: 0.5em;}#sk-container-id-6 div.sk-estimator:hover {background-color: #d4ebff;}#sk-container-id-6 div.sk-parallel-item::after {content: \"\";width: 100%;border-bottom: 1px solid gray;flex-grow: 1;}#sk-container-id-6 div.sk-label:hover label.sk-toggleable__label {background-color: #d4ebff;}#sk-container-id-6 div.sk-serial::before {content: \"\";position: absolute;border-left: 1px solid gray;box-sizing: border-box;top: 0;bottom: 0;left: 50%;z-index: 0;}#sk-container-id-6 div.sk-serial {display: flex;flex-direction: column;align-items: center;background-color: white;padding-right: 0.2em;padding-left: 0.2em;position: relative;}#sk-container-id-6 div.sk-item {position: relative;z-index: 1;}#sk-container-id-6 div.sk-parallel {display: flex;align-items: stretch;justify-content: center;background-color: white;position: relative;}#sk-container-id-6 div.sk-item::before, #sk-container-id-6 div.sk-parallel-item::before {content: \"\";position: absolute;border-left: 1px solid gray;box-sizing: border-box;top: 0;bottom: 0;left: 50%;z-index: -1;}#sk-container-id-6 div.sk-parallel-item {display: flex;flex-direction: column;z-index: 1;position: relative;background-color: white;}#sk-container-id-6 div.sk-parallel-item:first-child::after {align-self: flex-end;width: 50%;}#sk-container-id-6 div.sk-parallel-item:last-child::after {align-self: flex-start;width: 50%;}#sk-container-id-6 div.sk-parallel-item:only-child::after {width: 0;}#sk-container-id-6 div.sk-dashed-wrapped {border: 1px dashed gray;margin: 0 0.4em 0.5em 0.4em;box-sizing: border-box;padding-bottom: 0.4em;background-color: white;}#sk-container-id-6 div.sk-label label {font-family: monospace;font-weight: bold;display: inline-block;line-height: 1.2em;}#sk-container-id-6 div.sk-label-container {text-align: center;}#sk-container-id-6 div.sk-container {/* jupyter's `normalize.less` sets `[hidden] { display: none; }` but bootstrap.min.css set `[hidden] { display: none !important; }` so we also need the `!important` here to be able to override the default hidden behavior on the sphinx rendered scikit-learn.org. See: https://github.com/scikit-learn/scikit-learn/issues/21755 */display: inline-block !important;position: relative;}#sk-container-id-6 div.sk-text-repr-fallback {display: none;}</style><div id=\"sk-container-id-6\" class=\"sk-top-container\"><div class=\"sk-text-repr-fallback\"><pre>DecisionTreeClassifier(criterion=&#x27;log_loss&#x27;, max_depth=7, max_features=10,\n",
       "                       min_samples_leaf=3)</pre><b>In a Jupyter environment, please rerun this cell to show the HTML representation or trust the notebook. <br />On GitHub, the HTML representation is unable to render, please try loading this page with nbviewer.org.</b></div><div class=\"sk-container\" hidden><div class=\"sk-item\"><div class=\"sk-estimator sk-toggleable\"><input class=\"sk-toggleable__control sk-hidden--visually\" id=\"sk-estimator-id-8\" type=\"checkbox\" checked><label for=\"sk-estimator-id-8\" class=\"sk-toggleable__label sk-toggleable__label-arrow\">DecisionTreeClassifier</label><div class=\"sk-toggleable__content\"><pre>DecisionTreeClassifier(criterion=&#x27;log_loss&#x27;, max_depth=7, max_features=10,\n",
       "                       min_samples_leaf=3)</pre></div></div></div></div></div>"
      ],
      "text/plain": [
       "DecisionTreeClassifier(criterion='log_loss', max_depth=7, max_features=10,\n",
       "                       min_samples_leaf=3)"
      ]
     },
     "execution_count": 29,
     "metadata": {},
     "output_type": "execute_result"
    }
   ],
   "source": [
    "# Chama função para seleção de hiperparâmetros com Decision Tree\n",
    "decision_tree_param_selection(X_train,  y_train)\n"
   ]
  },
  {
   "cell_type": "code",
   "execution_count": 30,
   "id": "83f110a3",
   "metadata": {},
   "outputs": [
    {
     "data": {
      "text/html": [
       "<style>#sk-container-id-7 {color: black;background-color: white;}#sk-container-id-7 pre{padding: 0;}#sk-container-id-7 div.sk-toggleable {background-color: white;}#sk-container-id-7 label.sk-toggleable__label {cursor: pointer;display: block;width: 100%;margin-bottom: 0;padding: 0.3em;box-sizing: border-box;text-align: center;}#sk-container-id-7 label.sk-toggleable__label-arrow:before {content: \"▸\";float: left;margin-right: 0.25em;color: #696969;}#sk-container-id-7 label.sk-toggleable__label-arrow:hover:before {color: black;}#sk-container-id-7 div.sk-estimator:hover label.sk-toggleable__label-arrow:before {color: black;}#sk-container-id-7 div.sk-toggleable__content {max-height: 0;max-width: 0;overflow: hidden;text-align: left;background-color: #f0f8ff;}#sk-container-id-7 div.sk-toggleable__content pre {margin: 0.2em;color: black;border-radius: 0.25em;background-color: #f0f8ff;}#sk-container-id-7 input.sk-toggleable__control:checked~div.sk-toggleable__content {max-height: 200px;max-width: 100%;overflow: auto;}#sk-container-id-7 input.sk-toggleable__control:checked~label.sk-toggleable__label-arrow:before {content: \"▾\";}#sk-container-id-7 div.sk-estimator input.sk-toggleable__control:checked~label.sk-toggleable__label {background-color: #d4ebff;}#sk-container-id-7 div.sk-label input.sk-toggleable__control:checked~label.sk-toggleable__label {background-color: #d4ebff;}#sk-container-id-7 input.sk-hidden--visually {border: 0;clip: rect(1px 1px 1px 1px);clip: rect(1px, 1px, 1px, 1px);height: 1px;margin: -1px;overflow: hidden;padding: 0;position: absolute;width: 1px;}#sk-container-id-7 div.sk-estimator {font-family: monospace;background-color: #f0f8ff;border: 1px dotted black;border-radius: 0.25em;box-sizing: border-box;margin-bottom: 0.5em;}#sk-container-id-7 div.sk-estimator:hover {background-color: #d4ebff;}#sk-container-id-7 div.sk-parallel-item::after {content: \"\";width: 100%;border-bottom: 1px solid gray;flex-grow: 1;}#sk-container-id-7 div.sk-label:hover label.sk-toggleable__label {background-color: #d4ebff;}#sk-container-id-7 div.sk-serial::before {content: \"\";position: absolute;border-left: 1px solid gray;box-sizing: border-box;top: 0;bottom: 0;left: 50%;z-index: 0;}#sk-container-id-7 div.sk-serial {display: flex;flex-direction: column;align-items: center;background-color: white;padding-right: 0.2em;padding-left: 0.2em;position: relative;}#sk-container-id-7 div.sk-item {position: relative;z-index: 1;}#sk-container-id-7 div.sk-parallel {display: flex;align-items: stretch;justify-content: center;background-color: white;position: relative;}#sk-container-id-7 div.sk-item::before, #sk-container-id-7 div.sk-parallel-item::before {content: \"\";position: absolute;border-left: 1px solid gray;box-sizing: border-box;top: 0;bottom: 0;left: 50%;z-index: -1;}#sk-container-id-7 div.sk-parallel-item {display: flex;flex-direction: column;z-index: 1;position: relative;background-color: white;}#sk-container-id-7 div.sk-parallel-item:first-child::after {align-self: flex-end;width: 50%;}#sk-container-id-7 div.sk-parallel-item:last-child::after {align-self: flex-start;width: 50%;}#sk-container-id-7 div.sk-parallel-item:only-child::after {width: 0;}#sk-container-id-7 div.sk-dashed-wrapped {border: 1px dashed gray;margin: 0 0.4em 0.5em 0.4em;box-sizing: border-box;padding-bottom: 0.4em;background-color: white;}#sk-container-id-7 div.sk-label label {font-family: monospace;font-weight: bold;display: inline-block;line-height: 1.2em;}#sk-container-id-7 div.sk-label-container {text-align: center;}#sk-container-id-7 div.sk-container {/* jupyter's `normalize.less` sets `[hidden] { display: none; }` but bootstrap.min.css set `[hidden] { display: none !important; }` so we also need the `!important` here to be able to override the default hidden behavior on the sphinx rendered scikit-learn.org. See: https://github.com/scikit-learn/scikit-learn/issues/21755 */display: inline-block !important;position: relative;}#sk-container-id-7 div.sk-text-repr-fallback {display: none;}</style><div id=\"sk-container-id-7\" class=\"sk-top-container\"><div class=\"sk-text-repr-fallback\"><pre>DecisionTreeClassifier(criterion=&#x27;log_loss&#x27;, max_depth=7, max_features=10,\n",
       "                       min_samples_leaf=3)</pre><b>In a Jupyter environment, please rerun this cell to show the HTML representation or trust the notebook. <br />On GitHub, the HTML representation is unable to render, please try loading this page with nbviewer.org.</b></div><div class=\"sk-container\" hidden><div class=\"sk-item\"><div class=\"sk-estimator sk-toggleable\"><input class=\"sk-toggleable__control sk-hidden--visually\" id=\"sk-estimator-id-9\" type=\"checkbox\" checked><label for=\"sk-estimator-id-9\" class=\"sk-toggleable__label sk-toggleable__label-arrow\">DecisionTreeClassifier</label><div class=\"sk-toggleable__content\"><pre>DecisionTreeClassifier(criterion=&#x27;log_loss&#x27;, max_depth=7, max_features=10,\n",
       "                       min_samples_leaf=3)</pre></div></div></div></div></div>"
      ],
      "text/plain": [
       "DecisionTreeClassifier(criterion='log_loss', max_depth=7, max_features=10,\n",
       "                       min_samples_leaf=3)"
      ]
     },
     "execution_count": 30,
     "metadata": {},
     "output_type": "execute_result"
    }
   ],
   "source": [
    "# Treinamento\n",
    "\n",
    "# Criação do modelo com os melhores hiperparâmetros (versão final não deve ter o RandomizedSearchCV)\n",
    "#model_v4 = DecisionTreeClassifier(max_depth=4, min_samples_leaf=4, min_samples_split=7)\n",
    "model_v3 = DecisionTreeClassifier(criterion='log_loss', max_depth=7, max_features=10, min_samples_leaf=3)\n",
    "model_v3.fit(X_train, y_train)"
   ]
  },
  {
   "cell_type": "code",
   "execution_count": 31,
   "id": "58c6d1a2",
   "metadata": {},
   "outputs": [],
   "source": [
    "# Previsões em teste\n",
    "y_pred_v3 = model_v3.predict(X_test)\n",
    "\n",
    "# Obtém as previsões para a classe positiva\n",
    "y_pred_proba_v3 = model_v3.predict_proba(X_test)[:,1]"
   ]
  },
  {
   "cell_type": "code",
   "execution_count": 32,
   "id": "443218de",
   "metadata": {},
   "outputs": [
    {
     "name": "stdout",
     "output_type": "stream",
     "text": [
      "[[2705 1224]\n",
      " [  67   99]] 0.6424279454289543 0.6751748659182417 0.6847374847374847\n"
     ]
    }
   ],
   "source": [
    "# Avaliação do modelo\n",
    "cm_v3, roc_auc_v3, auc_v3, accuracy_v3 = evaluate_classification_model(y_test, y_pred_v3, y_pred_proba_v3)\n",
    "print(cm_v3, roc_auc_v3, auc_v3, accuracy_v3)"
   ]
  },
  {
   "cell_type": "code",
   "execution_count": 33,
   "id": "50e4fcb5",
   "metadata": {},
   "outputs": [
    {
     "name": "stdout",
     "output_type": "stream",
     "text": [
      "Variáveis mais importantes para o resultado do modelo_v3:\n",
      "--------------------------------------------------\n",
      "saldo_medio_var5_hace2\n",
      "num_var45_hace3\n",
      "var15\n",
      "saldo_var30\n",
      "PCA1\n",
      "num_var30\n",
      "saldo_var5\n",
      "num_med_var22_ult3\n",
      "num_var13_0\n",
      "saldo_medio_var5_ult3\n"
     ]
    }
   ],
   "source": [
    "# Feature Importance\n",
    "\n",
    "# Variáveis mais relevantes\n",
    "indices = np.argsort(-model_v3.feature_importances_)\n",
    "print(\"Variáveis mais importantes para o resultado do modelo_v3:\")\n",
    "print(50*'-')\n",
    "for feature in X_train.columns[indices][:10]:\n",
    "    print(feature)"
   ]
  },
  {
   "cell_type": "raw",
   "id": "2b3ed1c5",
   "metadata": {},
   "source": [
    "# Salva o modelo em disco\n",
    "save_model('model_v3', model_v3)"
   ]
  },
  {
   "cell_type": "code",
   "execution_count": 35,
   "id": "396a34f3",
   "metadata": {},
   "outputs": [
    {
     "data": {
      "text/html": [
       "<div>\n",
       "<style scoped>\n",
       "    .dataframe tbody tr th:only-of-type {\n",
       "        vertical-align: middle;\n",
       "    }\n",
       "\n",
       "    .dataframe tbody tr th {\n",
       "        vertical-align: top;\n",
       "    }\n",
       "\n",
       "    .dataframe thead th {\n",
       "        text-align: right;\n",
       "    }\n",
       "</style>\n",
       "<table border=\"1\" class=\"dataframe\">\n",
       "  <thead>\n",
       "    <tr style=\"text-align: right;\">\n",
       "      <th></th>\n",
       "      <th>Nome</th>\n",
       "      <th>Algoritmo</th>\n",
       "      <th>ROC_AUC Score</th>\n",
       "      <th>AUC Score</th>\n",
       "      <th>Acurácia</th>\n",
       "    </tr>\n",
       "  </thead>\n",
       "  <tbody>\n",
       "    <tr>\n",
       "      <th>0</th>\n",
       "      <td>modelo_v1</td>\n",
       "      <td>Regressão Logística</td>\n",
       "      <td>0.646329</td>\n",
       "      <td>0.696649</td>\n",
       "      <td>0.736508</td>\n",
       "    </tr>\n",
       "    <tr>\n",
       "      <th>0</th>\n",
       "      <td>modelo_v2</td>\n",
       "      <td>Random Forest</td>\n",
       "      <td>0.680093</td>\n",
       "      <td>0.752503</td>\n",
       "      <td>0.840049</td>\n",
       "    </tr>\n",
       "    <tr>\n",
       "      <th>0</th>\n",
       "      <td>modelo_v3</td>\n",
       "      <td>Decision Tree</td>\n",
       "      <td>0.642428</td>\n",
       "      <td>0.675175</td>\n",
       "      <td>0.684737</td>\n",
       "    </tr>\n",
       "  </tbody>\n",
       "</table>\n",
       "</div>"
      ],
      "text/plain": [
       "        Nome            Algoritmo ROC_AUC Score AUC Score  Acurácia\n",
       "0  modelo_v1  Regressão Logística      0.646329  0.696649  0.736508\n",
       "0  modelo_v2        Random Forest      0.680093  0.752503  0.840049\n",
       "0  modelo_v3        Decision Tree      0.642428  0.675175  0.684737"
      ]
     },
     "metadata": {},
     "output_type": "display_data"
    }
   ],
   "source": [
    "# Dicionário com as métricas do modelo_v3\n",
    "dict_model_v3 = {'Nome': 'modelo_v3', \n",
    "                 'Algoritmo': 'Decision Tree', \n",
    "                 'ROC_AUC Score': roc_auc_v3,\n",
    "                 'AUC Score': auc_v3,\n",
    "                 'Acurácia': accuracy_v3}\n",
    "\n",
    "# Adiciona o dict ao dataframe de consolidação das métricas\n",
    "dict_model_v3 = pd.DataFrame.from_dict(dict_model_v3, orient='index').T\n",
    "df_list = [df_models, dict_model_v3]\n",
    "df_models = pd.concat(df_list)\n",
    "\n",
    "display(df_models)"
   ]
  },
  {
   "cell_type": "markdown",
   "id": "0ac340ef",
   "metadata": {},
   "source": [
    "### Construção, Treinamento e Avaliação do Modelo 4 com Gradient Boosting Classifier\n",
    "#### _Construction, Training and Evaluation of Model 4 with Gradient Boosting Classifier_"
   ]
  },
  {
   "cell_type": "code",
   "execution_count": 36,
   "id": "4c44224e",
   "metadata": {},
   "outputs": [
    {
     "data": {
      "text/html": [
       "<style>#sk-container-id-8 {color: black;background-color: white;}#sk-container-id-8 pre{padding: 0;}#sk-container-id-8 div.sk-toggleable {background-color: white;}#sk-container-id-8 label.sk-toggleable__label {cursor: pointer;display: block;width: 100%;margin-bottom: 0;padding: 0.3em;box-sizing: border-box;text-align: center;}#sk-container-id-8 label.sk-toggleable__label-arrow:before {content: \"▸\";float: left;margin-right: 0.25em;color: #696969;}#sk-container-id-8 label.sk-toggleable__label-arrow:hover:before {color: black;}#sk-container-id-8 div.sk-estimator:hover label.sk-toggleable__label-arrow:before {color: black;}#sk-container-id-8 div.sk-toggleable__content {max-height: 0;max-width: 0;overflow: hidden;text-align: left;background-color: #f0f8ff;}#sk-container-id-8 div.sk-toggleable__content pre {margin: 0.2em;color: black;border-radius: 0.25em;background-color: #f0f8ff;}#sk-container-id-8 input.sk-toggleable__control:checked~div.sk-toggleable__content {max-height: 200px;max-width: 100%;overflow: auto;}#sk-container-id-8 input.sk-toggleable__control:checked~label.sk-toggleable__label-arrow:before {content: \"▾\";}#sk-container-id-8 div.sk-estimator input.sk-toggleable__control:checked~label.sk-toggleable__label {background-color: #d4ebff;}#sk-container-id-8 div.sk-label input.sk-toggleable__control:checked~label.sk-toggleable__label {background-color: #d4ebff;}#sk-container-id-8 input.sk-hidden--visually {border: 0;clip: rect(1px 1px 1px 1px);clip: rect(1px, 1px, 1px, 1px);height: 1px;margin: -1px;overflow: hidden;padding: 0;position: absolute;width: 1px;}#sk-container-id-8 div.sk-estimator {font-family: monospace;background-color: #f0f8ff;border: 1px dotted black;border-radius: 0.25em;box-sizing: border-box;margin-bottom: 0.5em;}#sk-container-id-8 div.sk-estimator:hover {background-color: #d4ebff;}#sk-container-id-8 div.sk-parallel-item::after {content: \"\";width: 100%;border-bottom: 1px solid gray;flex-grow: 1;}#sk-container-id-8 div.sk-label:hover label.sk-toggleable__label {background-color: #d4ebff;}#sk-container-id-8 div.sk-serial::before {content: \"\";position: absolute;border-left: 1px solid gray;box-sizing: border-box;top: 0;bottom: 0;left: 50%;z-index: 0;}#sk-container-id-8 div.sk-serial {display: flex;flex-direction: column;align-items: center;background-color: white;padding-right: 0.2em;padding-left: 0.2em;position: relative;}#sk-container-id-8 div.sk-item {position: relative;z-index: 1;}#sk-container-id-8 div.sk-parallel {display: flex;align-items: stretch;justify-content: center;background-color: white;position: relative;}#sk-container-id-8 div.sk-item::before, #sk-container-id-8 div.sk-parallel-item::before {content: \"\";position: absolute;border-left: 1px solid gray;box-sizing: border-box;top: 0;bottom: 0;left: 50%;z-index: -1;}#sk-container-id-8 div.sk-parallel-item {display: flex;flex-direction: column;z-index: 1;position: relative;background-color: white;}#sk-container-id-8 div.sk-parallel-item:first-child::after {align-self: flex-end;width: 50%;}#sk-container-id-8 div.sk-parallel-item:last-child::after {align-self: flex-start;width: 50%;}#sk-container-id-8 div.sk-parallel-item:only-child::after {width: 0;}#sk-container-id-8 div.sk-dashed-wrapped {border: 1px dashed gray;margin: 0 0.4em 0.5em 0.4em;box-sizing: border-box;padding-bottom: 0.4em;background-color: white;}#sk-container-id-8 div.sk-label label {font-family: monospace;font-weight: bold;display: inline-block;line-height: 1.2em;}#sk-container-id-8 div.sk-label-container {text-align: center;}#sk-container-id-8 div.sk-container {/* jupyter's `normalize.less` sets `[hidden] { display: none; }` but bootstrap.min.css set `[hidden] { display: none !important; }` so we also need the `!important` here to be able to override the default hidden behavior on the sphinx rendered scikit-learn.org. See: https://github.com/scikit-learn/scikit-learn/issues/21755 */display: inline-block !important;position: relative;}#sk-container-id-8 div.sk-text-repr-fallback {display: none;}</style><div id=\"sk-container-id-8\" class=\"sk-top-container\"><div class=\"sk-text-repr-fallback\"><pre>GradientBoostingClassifier(max_depth=6, min_samples_split=4)</pre><b>In a Jupyter environment, please rerun this cell to show the HTML representation or trust the notebook. <br />On GitHub, the HTML representation is unable to render, please try loading this page with nbviewer.org.</b></div><div class=\"sk-container\" hidden><div class=\"sk-item\"><div class=\"sk-estimator sk-toggleable\"><input class=\"sk-toggleable__control sk-hidden--visually\" id=\"sk-estimator-id-10\" type=\"checkbox\" checked><label for=\"sk-estimator-id-10\" class=\"sk-toggleable__label sk-toggleable__label-arrow\">GradientBoostingClassifier</label><div class=\"sk-toggleable__content\"><pre>GradientBoostingClassifier(max_depth=6, min_samples_split=4)</pre></div></div></div></div></div>"
      ],
      "text/plain": [
       "GradientBoostingClassifier(max_depth=6, min_samples_split=4)"
      ]
     },
     "execution_count": 36,
     "metadata": {},
     "output_type": "execute_result"
    }
   ],
   "source": [
    "# Chamada da função para seleção de hiperparâmetros com Gradient Boosting\n",
    "\n",
    "gradient_boosting_param_selection(X_train, y_train)"
   ]
  },
  {
   "cell_type": "code",
   "execution_count": 37,
   "id": "13d804b5",
   "metadata": {},
   "outputs": [
    {
     "data": {
      "text/html": [
       "<style>#sk-container-id-9 {color: black;background-color: white;}#sk-container-id-9 pre{padding: 0;}#sk-container-id-9 div.sk-toggleable {background-color: white;}#sk-container-id-9 label.sk-toggleable__label {cursor: pointer;display: block;width: 100%;margin-bottom: 0;padding: 0.3em;box-sizing: border-box;text-align: center;}#sk-container-id-9 label.sk-toggleable__label-arrow:before {content: \"▸\";float: left;margin-right: 0.25em;color: #696969;}#sk-container-id-9 label.sk-toggleable__label-arrow:hover:before {color: black;}#sk-container-id-9 div.sk-estimator:hover label.sk-toggleable__label-arrow:before {color: black;}#sk-container-id-9 div.sk-toggleable__content {max-height: 0;max-width: 0;overflow: hidden;text-align: left;background-color: #f0f8ff;}#sk-container-id-9 div.sk-toggleable__content pre {margin: 0.2em;color: black;border-radius: 0.25em;background-color: #f0f8ff;}#sk-container-id-9 input.sk-toggleable__control:checked~div.sk-toggleable__content {max-height: 200px;max-width: 100%;overflow: auto;}#sk-container-id-9 input.sk-toggleable__control:checked~label.sk-toggleable__label-arrow:before {content: \"▾\";}#sk-container-id-9 div.sk-estimator input.sk-toggleable__control:checked~label.sk-toggleable__label {background-color: #d4ebff;}#sk-container-id-9 div.sk-label input.sk-toggleable__control:checked~label.sk-toggleable__label {background-color: #d4ebff;}#sk-container-id-9 input.sk-hidden--visually {border: 0;clip: rect(1px 1px 1px 1px);clip: rect(1px, 1px, 1px, 1px);height: 1px;margin: -1px;overflow: hidden;padding: 0;position: absolute;width: 1px;}#sk-container-id-9 div.sk-estimator {font-family: monospace;background-color: #f0f8ff;border: 1px dotted black;border-radius: 0.25em;box-sizing: border-box;margin-bottom: 0.5em;}#sk-container-id-9 div.sk-estimator:hover {background-color: #d4ebff;}#sk-container-id-9 div.sk-parallel-item::after {content: \"\";width: 100%;border-bottom: 1px solid gray;flex-grow: 1;}#sk-container-id-9 div.sk-label:hover label.sk-toggleable__label {background-color: #d4ebff;}#sk-container-id-9 div.sk-serial::before {content: \"\";position: absolute;border-left: 1px solid gray;box-sizing: border-box;top: 0;bottom: 0;left: 50%;z-index: 0;}#sk-container-id-9 div.sk-serial {display: flex;flex-direction: column;align-items: center;background-color: white;padding-right: 0.2em;padding-left: 0.2em;position: relative;}#sk-container-id-9 div.sk-item {position: relative;z-index: 1;}#sk-container-id-9 div.sk-parallel {display: flex;align-items: stretch;justify-content: center;background-color: white;position: relative;}#sk-container-id-9 div.sk-item::before, #sk-container-id-9 div.sk-parallel-item::before {content: \"\";position: absolute;border-left: 1px solid gray;box-sizing: border-box;top: 0;bottom: 0;left: 50%;z-index: -1;}#sk-container-id-9 div.sk-parallel-item {display: flex;flex-direction: column;z-index: 1;position: relative;background-color: white;}#sk-container-id-9 div.sk-parallel-item:first-child::after {align-self: flex-end;width: 50%;}#sk-container-id-9 div.sk-parallel-item:last-child::after {align-self: flex-start;width: 50%;}#sk-container-id-9 div.sk-parallel-item:only-child::after {width: 0;}#sk-container-id-9 div.sk-dashed-wrapped {border: 1px dashed gray;margin: 0 0.4em 0.5em 0.4em;box-sizing: border-box;padding-bottom: 0.4em;background-color: white;}#sk-container-id-9 div.sk-label label {font-family: monospace;font-weight: bold;display: inline-block;line-height: 1.2em;}#sk-container-id-9 div.sk-label-container {text-align: center;}#sk-container-id-9 div.sk-container {/* jupyter's `normalize.less` sets `[hidden] { display: none; }` but bootstrap.min.css set `[hidden] { display: none !important; }` so we also need the `!important` here to be able to override the default hidden behavior on the sphinx rendered scikit-learn.org. See: https://github.com/scikit-learn/scikit-learn/issues/21755 */display: inline-block !important;position: relative;}#sk-container-id-9 div.sk-text-repr-fallback {display: none;}</style><div id=\"sk-container-id-9\" class=\"sk-top-container\"><div class=\"sk-text-repr-fallback\"><pre>GradientBoostingClassifier(max_depth=6, min_samples_split=4)</pre><b>In a Jupyter environment, please rerun this cell to show the HTML representation or trust the notebook. <br />On GitHub, the HTML representation is unable to render, please try loading this page with nbviewer.org.</b></div><div class=\"sk-container\" hidden><div class=\"sk-item\"><div class=\"sk-estimator sk-toggleable\"><input class=\"sk-toggleable__control sk-hidden--visually\" id=\"sk-estimator-id-11\" type=\"checkbox\" checked><label for=\"sk-estimator-id-11\" class=\"sk-toggleable__label sk-toggleable__label-arrow\">GradientBoostingClassifier</label><div class=\"sk-toggleable__content\"><pre>GradientBoostingClassifier(max_depth=6, min_samples_split=4)</pre></div></div></div></div></div>"
      ],
      "text/plain": [
       "GradientBoostingClassifier(max_depth=6, min_samples_split=4)"
      ]
     },
     "execution_count": 37,
     "metadata": {},
     "output_type": "execute_result"
    }
   ],
   "source": [
    "# Treinamento\n",
    "\n",
    "# Criação do modelo com os melhores hiperparâmetros\n",
    "model_v4 = GradientBoostingClassifier(max_depth=6, min_samples_split=4)\n",
    "model_v4.fit(X_train, y_train)"
   ]
  },
  {
   "cell_type": "code",
   "execution_count": 38,
   "id": "bd041847",
   "metadata": {},
   "outputs": [],
   "source": [
    "# Previsões em teste\n",
    "y_pred_v4 = model_v4.predict(X_test)\n",
    "\n",
    "# Obtém as previsões para a classe positiva\n",
    "y_pred_proba_v4 = model_v4.predict_proba(X_test)[:,1]"
   ]
  },
  {
   "cell_type": "code",
   "execution_count": 39,
   "id": "dab40184",
   "metadata": {},
   "outputs": [
    {
     "name": "stdout",
     "output_type": "stream",
     "text": [
      "[[3689  240]\n",
      " [ 123   43]] 0.5989759496116306 0.7814942641525634 0.9113553113553113\n"
     ]
    }
   ],
   "source": [
    "# Avaliação do modelo\n",
    "cm_v4, roc_auc_v4, auc_v4, accuracy_v4 = evaluate_classification_model(y_test, y_pred_v4, y_pred_proba_v4)\n",
    "print(cm_v4, roc_auc_v4, auc_v4, accuracy_v4)"
   ]
  },
  {
   "cell_type": "raw",
   "id": "75a44021",
   "metadata": {},
   "source": [
    "# Salva o modelo em disco\n",
    "save_model('model_v4', model_v4)"
   ]
  },
  {
   "cell_type": "code",
   "execution_count": 41,
   "id": "34fec5fa",
   "metadata": {},
   "outputs": [
    {
     "data": {
      "text/html": [
       "<div>\n",
       "<style scoped>\n",
       "    .dataframe tbody tr th:only-of-type {\n",
       "        vertical-align: middle;\n",
       "    }\n",
       "\n",
       "    .dataframe tbody tr th {\n",
       "        vertical-align: top;\n",
       "    }\n",
       "\n",
       "    .dataframe thead th {\n",
       "        text-align: right;\n",
       "    }\n",
       "</style>\n",
       "<table border=\"1\" class=\"dataframe\">\n",
       "  <thead>\n",
       "    <tr style=\"text-align: right;\">\n",
       "      <th></th>\n",
       "      <th>Nome</th>\n",
       "      <th>Algoritmo</th>\n",
       "      <th>ROC_AUC Score</th>\n",
       "      <th>AUC Score</th>\n",
       "      <th>Acurácia</th>\n",
       "    </tr>\n",
       "  </thead>\n",
       "  <tbody>\n",
       "    <tr>\n",
       "      <th>0</th>\n",
       "      <td>modelo_v1</td>\n",
       "      <td>Regressão Logística</td>\n",
       "      <td>0.646329</td>\n",
       "      <td>0.696649</td>\n",
       "      <td>0.736508</td>\n",
       "    </tr>\n",
       "    <tr>\n",
       "      <th>0</th>\n",
       "      <td>modelo_v2</td>\n",
       "      <td>Random Forest</td>\n",
       "      <td>0.680093</td>\n",
       "      <td>0.752503</td>\n",
       "      <td>0.840049</td>\n",
       "    </tr>\n",
       "    <tr>\n",
       "      <th>0</th>\n",
       "      <td>modelo_v3</td>\n",
       "      <td>Decision Tree</td>\n",
       "      <td>0.642428</td>\n",
       "      <td>0.675175</td>\n",
       "      <td>0.684737</td>\n",
       "    </tr>\n",
       "    <tr>\n",
       "      <th>0</th>\n",
       "      <td>modelo_v4</td>\n",
       "      <td>Gradient Boosting</td>\n",
       "      <td>0.598976</td>\n",
       "      <td>0.781494</td>\n",
       "      <td>0.911355</td>\n",
       "    </tr>\n",
       "  </tbody>\n",
       "</table>\n",
       "</div>"
      ],
      "text/plain": [
       "        Nome            Algoritmo ROC_AUC Score AUC Score  Acurácia\n",
       "0  modelo_v1  Regressão Logística      0.646329  0.696649  0.736508\n",
       "0  modelo_v2        Random Forest      0.680093  0.752503  0.840049\n",
       "0  modelo_v3        Decision Tree      0.642428  0.675175  0.684737\n",
       "0  modelo_v4    Gradient Boosting      0.598976  0.781494  0.911355"
      ]
     },
     "metadata": {},
     "output_type": "display_data"
    }
   ],
   "source": [
    "# Dicionário com as métricas do modelo_v4\n",
    "dict_model_v4 = {'Nome': 'modelo_v4', \n",
    "                 'Algoritmo': 'Gradient Boosting', \n",
    "                 'ROC_AUC Score': roc_auc_v4,\n",
    "                 'AUC Score': auc_v4,\n",
    "                 'Acurácia': accuracy_v4}\n",
    "\n",
    "# Adiciona o dict ao dataframe de consolidação das métricas\n",
    "dict_model_v4 = pd.DataFrame.from_dict(dict_model_v4, orient='index').T\n",
    "df_list = [df_models, dict_model_v4]\n",
    "df_models = pd.concat(df_list)\n",
    "\n",
    "display(df_models)"
   ]
  },
  {
   "cell_type": "markdown",
   "id": "81ce3311",
   "metadata": {},
   "source": [
    "### Construção, Treinamento e Avaliação do Modelo 5 com Adaboost Classifier\n",
    "#### _Construction, Training and Evaluation of Model 5 with Adaboost Classifier_"
   ]
  },
  {
   "cell_type": "code",
   "execution_count": 42,
   "id": "bb3e8b2d",
   "metadata": {},
   "outputs": [
    {
     "data": {
      "text/plain": [
       "{'eta': 1, 'max_depth': 7}"
      ]
     },
     "execution_count": 42,
     "metadata": {},
     "output_type": "execute_result"
    }
   ],
   "source": [
    "# Chamada da função para seleção de hiperparâmetros com XGBoost\n",
    "\n",
    "xgb_param_selection(X_train, y_train, 10)"
   ]
  },
  {
   "cell_type": "code",
   "execution_count": 43,
   "id": "d93508ed",
   "metadata": {},
   "outputs": [
    {
     "data": {
      "text/html": [
       "<style>#sk-container-id-10 {color: black;background-color: white;}#sk-container-id-10 pre{padding: 0;}#sk-container-id-10 div.sk-toggleable {background-color: white;}#sk-container-id-10 label.sk-toggleable__label {cursor: pointer;display: block;width: 100%;margin-bottom: 0;padding: 0.3em;box-sizing: border-box;text-align: center;}#sk-container-id-10 label.sk-toggleable__label-arrow:before {content: \"▸\";float: left;margin-right: 0.25em;color: #696969;}#sk-container-id-10 label.sk-toggleable__label-arrow:hover:before {color: black;}#sk-container-id-10 div.sk-estimator:hover label.sk-toggleable__label-arrow:before {color: black;}#sk-container-id-10 div.sk-toggleable__content {max-height: 0;max-width: 0;overflow: hidden;text-align: left;background-color: #f0f8ff;}#sk-container-id-10 div.sk-toggleable__content pre {margin: 0.2em;color: black;border-radius: 0.25em;background-color: #f0f8ff;}#sk-container-id-10 input.sk-toggleable__control:checked~div.sk-toggleable__content {max-height: 200px;max-width: 100%;overflow: auto;}#sk-container-id-10 input.sk-toggleable__control:checked~label.sk-toggleable__label-arrow:before {content: \"▾\";}#sk-container-id-10 div.sk-estimator input.sk-toggleable__control:checked~label.sk-toggleable__label {background-color: #d4ebff;}#sk-container-id-10 div.sk-label input.sk-toggleable__control:checked~label.sk-toggleable__label {background-color: #d4ebff;}#sk-container-id-10 input.sk-hidden--visually {border: 0;clip: rect(1px 1px 1px 1px);clip: rect(1px, 1px, 1px, 1px);height: 1px;margin: -1px;overflow: hidden;padding: 0;position: absolute;width: 1px;}#sk-container-id-10 div.sk-estimator {font-family: monospace;background-color: #f0f8ff;border: 1px dotted black;border-radius: 0.25em;box-sizing: border-box;margin-bottom: 0.5em;}#sk-container-id-10 div.sk-estimator:hover {background-color: #d4ebff;}#sk-container-id-10 div.sk-parallel-item::after {content: \"\";width: 100%;border-bottom: 1px solid gray;flex-grow: 1;}#sk-container-id-10 div.sk-label:hover label.sk-toggleable__label {background-color: #d4ebff;}#sk-container-id-10 div.sk-serial::before {content: \"\";position: absolute;border-left: 1px solid gray;box-sizing: border-box;top: 0;bottom: 0;left: 50%;z-index: 0;}#sk-container-id-10 div.sk-serial {display: flex;flex-direction: column;align-items: center;background-color: white;padding-right: 0.2em;padding-left: 0.2em;position: relative;}#sk-container-id-10 div.sk-item {position: relative;z-index: 1;}#sk-container-id-10 div.sk-parallel {display: flex;align-items: stretch;justify-content: center;background-color: white;position: relative;}#sk-container-id-10 div.sk-item::before, #sk-container-id-10 div.sk-parallel-item::before {content: \"\";position: absolute;border-left: 1px solid gray;box-sizing: border-box;top: 0;bottom: 0;left: 50%;z-index: -1;}#sk-container-id-10 div.sk-parallel-item {display: flex;flex-direction: column;z-index: 1;position: relative;background-color: white;}#sk-container-id-10 div.sk-parallel-item:first-child::after {align-self: flex-end;width: 50%;}#sk-container-id-10 div.sk-parallel-item:last-child::after {align-self: flex-start;width: 50%;}#sk-container-id-10 div.sk-parallel-item:only-child::after {width: 0;}#sk-container-id-10 div.sk-dashed-wrapped {border: 1px dashed gray;margin: 0 0.4em 0.5em 0.4em;box-sizing: border-box;padding-bottom: 0.4em;background-color: white;}#sk-container-id-10 div.sk-label label {font-family: monospace;font-weight: bold;display: inline-block;line-height: 1.2em;}#sk-container-id-10 div.sk-label-container {text-align: center;}#sk-container-id-10 div.sk-container {/* jupyter's `normalize.less` sets `[hidden] { display: none; }` but bootstrap.min.css set `[hidden] { display: none !important; }` so we also need the `!important` here to be able to override the default hidden behavior on the sphinx rendered scikit-learn.org. See: https://github.com/scikit-learn/scikit-learn/issues/21755 */display: inline-block !important;position: relative;}#sk-container-id-10 div.sk-text-repr-fallback {display: none;}</style><div id=\"sk-container-id-10\" class=\"sk-top-container\"><div class=\"sk-text-repr-fallback\"><pre>XGBClassifier(base_score=0.5, booster=&#x27;gbtree&#x27;, callbacks=None,\n",
       "              colsample_bylevel=1, colsample_bynode=1, colsample_bytree=1,\n",
       "              early_stopping_rounds=None, enable_categorical=False, eta=1,\n",
       "              eval_metric=None, gamma=0, gpu_id=-1, grow_policy=&#x27;depthwise&#x27;,\n",
       "              importance_type=None, interaction_constraints=&#x27;&#x27;, learning_rate=1,\n",
       "              max_bin=256, max_cat_to_onehot=4, max_delta_step=0, max_depth=7,\n",
       "              max_leaves=0, min_child_weight=1, missing=nan,\n",
       "              monotone_constraints=&#x27;()&#x27;, n_estimators=100, n_jobs=0,\n",
       "              num_parallel_tree=1, predictor=&#x27;auto&#x27;, random_state=0,\n",
       "              reg_alpha=0, ...)</pre><b>In a Jupyter environment, please rerun this cell to show the HTML representation or trust the notebook. <br />On GitHub, the HTML representation is unable to render, please try loading this page with nbviewer.org.</b></div><div class=\"sk-container\" hidden><div class=\"sk-item\"><div class=\"sk-estimator sk-toggleable\"><input class=\"sk-toggleable__control sk-hidden--visually\" id=\"sk-estimator-id-12\" type=\"checkbox\" checked><label for=\"sk-estimator-id-12\" class=\"sk-toggleable__label sk-toggleable__label-arrow\">XGBClassifier</label><div class=\"sk-toggleable__content\"><pre>XGBClassifier(base_score=0.5, booster=&#x27;gbtree&#x27;, callbacks=None,\n",
       "              colsample_bylevel=1, colsample_bynode=1, colsample_bytree=1,\n",
       "              early_stopping_rounds=None, enable_categorical=False, eta=1,\n",
       "              eval_metric=None, gamma=0, gpu_id=-1, grow_policy=&#x27;depthwise&#x27;,\n",
       "              importance_type=None, interaction_constraints=&#x27;&#x27;, learning_rate=1,\n",
       "              max_bin=256, max_cat_to_onehot=4, max_delta_step=0, max_depth=7,\n",
       "              max_leaves=0, min_child_weight=1, missing=nan,\n",
       "              monotone_constraints=&#x27;()&#x27;, n_estimators=100, n_jobs=0,\n",
       "              num_parallel_tree=1, predictor=&#x27;auto&#x27;, random_state=0,\n",
       "              reg_alpha=0, ...)</pre></div></div></div></div></div>"
      ],
      "text/plain": [
       "XGBClassifier(base_score=0.5, booster='gbtree', callbacks=None,\n",
       "              colsample_bylevel=1, colsample_bynode=1, colsample_bytree=1,\n",
       "              early_stopping_rounds=None, enable_categorical=False, eta=1,\n",
       "              eval_metric=None, gamma=0, gpu_id=-1, grow_policy='depthwise',\n",
       "              importance_type=None, interaction_constraints='', learning_rate=1,\n",
       "              max_bin=256, max_cat_to_onehot=4, max_delta_step=0, max_depth=7,\n",
       "              max_leaves=0, min_child_weight=1, missing=nan,\n",
       "              monotone_constraints='()', n_estimators=100, n_jobs=0,\n",
       "              num_parallel_tree=1, predictor='auto', random_state=0,\n",
       "              reg_alpha=0, ...)"
      ]
     },
     "execution_count": 43,
     "metadata": {},
     "output_type": "execute_result"
    }
   ],
   "source": [
    "# Treinamento\n",
    "\n",
    "# Criação do modelo com os melhores hiperparâmetros (versão final não deve ter o GridSearchCV)\n",
    "model_v5 = XGBClassifier(eta = 1, max_depth = 7)\n",
    "model_v5.fit(X_train, y_train)"
   ]
  },
  {
   "cell_type": "code",
   "execution_count": 44,
   "id": "d9c5e25e",
   "metadata": {},
   "outputs": [],
   "source": [
    "# Previsões em teste\n",
    "y_pred_v5 = model_v5.predict(X_test)\n",
    "\n",
    "# Obtém as previsões para a classe positiva\n",
    "y_pred_proba_v5 = model_v5.predict_proba(X_test)[:,1]"
   ]
  },
  {
   "cell_type": "code",
   "execution_count": 45,
   "id": "2a4385dd",
   "metadata": {},
   "outputs": [
    {
     "name": "stdout",
     "output_type": "stream",
     "text": [
      "[[3719  210]\n",
      " [ 135   31]] 0.5666491366330683 0.6988779756337644 0.9157509157509157\n"
     ]
    }
   ],
   "source": [
    "# Avaliação do modelo\n",
    "cm_v5, roc_auc_v5, auc_v5, accuracy_v5 = evaluate_classification_model(y_test, y_pred_v5, y_pred_proba_v5)\n",
    "print(cm_v5, roc_auc_v5, auc_v5, accuracy_v5)"
   ]
  },
  {
   "cell_type": "code",
   "execution_count": 46,
   "id": "b36b5d65",
   "metadata": {},
   "outputs": [
    {
     "name": "stdout",
     "output_type": "stream",
     "text": [
      "Variáveis mais importantes para o resultado do modelo_v5:\n",
      "--------------------------------------------------\n",
      "num_var30_0\n",
      "ind_var37\n",
      "ind_var37_0\n",
      "num_var30\n",
      "saldo_var30\n",
      "num_med_var22_ult3\n",
      "num_var45_hace3\n",
      "var15\n",
      "num_meses_var5_ult3\n",
      "imp_op_var39_efect_ult1\n"
     ]
    }
   ],
   "source": [
    "# Feature Importance\n",
    "\n",
    "# Variáveis mais relevantes\n",
    "indices = np.argsort(-model_v5.feature_importances_)\n",
    "print(\"Variáveis mais importantes para o resultado do modelo_v5:\")\n",
    "print(50*'-')\n",
    "for feature in X_train.columns[indices][:10]:\n",
    "    print(feature)"
   ]
  },
  {
   "cell_type": "raw",
   "id": "62a34074",
   "metadata": {},
   "source": [
    "# Salva o modelo em disco\n",
    "save_model('model_v5', model_v5)"
   ]
  },
  {
   "cell_type": "code",
   "execution_count": 48,
   "id": "fdc183a0",
   "metadata": {},
   "outputs": [
    {
     "data": {
      "text/html": [
       "<div>\n",
       "<style scoped>\n",
       "    .dataframe tbody tr th:only-of-type {\n",
       "        vertical-align: middle;\n",
       "    }\n",
       "\n",
       "    .dataframe tbody tr th {\n",
       "        vertical-align: top;\n",
       "    }\n",
       "\n",
       "    .dataframe thead th {\n",
       "        text-align: right;\n",
       "    }\n",
       "</style>\n",
       "<table border=\"1\" class=\"dataframe\">\n",
       "  <thead>\n",
       "    <tr style=\"text-align: right;\">\n",
       "      <th></th>\n",
       "      <th>Nome</th>\n",
       "      <th>Algoritmo</th>\n",
       "      <th>ROC_AUC Score</th>\n",
       "      <th>AUC Score</th>\n",
       "      <th>Acurácia</th>\n",
       "    </tr>\n",
       "  </thead>\n",
       "  <tbody>\n",
       "    <tr>\n",
       "      <th>0</th>\n",
       "      <td>modelo_v1</td>\n",
       "      <td>Regressão Logística</td>\n",
       "      <td>0.646329</td>\n",
       "      <td>0.696649</td>\n",
       "      <td>0.736508</td>\n",
       "    </tr>\n",
       "    <tr>\n",
       "      <th>0</th>\n",
       "      <td>modelo_v2</td>\n",
       "      <td>Random Forest</td>\n",
       "      <td>0.680093</td>\n",
       "      <td>0.752503</td>\n",
       "      <td>0.840049</td>\n",
       "    </tr>\n",
       "    <tr>\n",
       "      <th>0</th>\n",
       "      <td>modelo_v3</td>\n",
       "      <td>Decision Tree</td>\n",
       "      <td>0.642428</td>\n",
       "      <td>0.675175</td>\n",
       "      <td>0.684737</td>\n",
       "    </tr>\n",
       "    <tr>\n",
       "      <th>0</th>\n",
       "      <td>modelo_v4</td>\n",
       "      <td>Gradient Boosting</td>\n",
       "      <td>0.598976</td>\n",
       "      <td>0.781494</td>\n",
       "      <td>0.911355</td>\n",
       "    </tr>\n",
       "    <tr>\n",
       "      <th>0</th>\n",
       "      <td>modelo_v5</td>\n",
       "      <td>XGBoost</td>\n",
       "      <td>0.566649</td>\n",
       "      <td>0.698878</td>\n",
       "      <td>0.915751</td>\n",
       "    </tr>\n",
       "  </tbody>\n",
       "</table>\n",
       "</div>"
      ],
      "text/plain": [
       "        Nome            Algoritmo ROC_AUC Score AUC Score  Acurácia\n",
       "0  modelo_v1  Regressão Logística      0.646329  0.696649  0.736508\n",
       "0  modelo_v2        Random Forest      0.680093  0.752503  0.840049\n",
       "0  modelo_v3        Decision Tree      0.642428  0.675175  0.684737\n",
       "0  modelo_v4    Gradient Boosting      0.598976  0.781494  0.911355\n",
       "0  modelo_v5              XGBoost      0.566649  0.698878  0.915751"
      ]
     },
     "metadata": {},
     "output_type": "display_data"
    }
   ],
   "source": [
    "# Dicionário com as métricas do modelo_v5\n",
    "dict_model_v5 = {'Nome': 'modelo_v5', \n",
    "                 'Algoritmo': 'XGBoost', \n",
    "                 'ROC_AUC Score': roc_auc_v5,\n",
    "                 'AUC Score': auc_v5,\n",
    "                 'Acurácia': accuracy_v5}\n",
    "\n",
    "# Adiciona o dict ao dataframe de consolidação das métricas\n",
    "dict_model_v5 = pd.DataFrame.from_dict(dict_model_v5, orient='index').T\n",
    "df_list = [df_models, dict_model_v5]\n",
    "df_models = pd.concat(df_list)\n",
    "\n",
    "display(df_models)"
   ]
  },
  {
   "cell_type": "markdown",
   "id": "053b00cf",
   "metadata": {},
   "source": [
    "### Seleção do Melhor Modelo // _Selection of the Best Model_"
   ]
  },
  {
   "cell_type": "code",
   "execution_count": 49,
   "id": "dd8c92f1",
   "metadata": {},
   "outputs": [
    {
     "data": {
      "text/html": [
       "<div>\n",
       "<style scoped>\n",
       "    .dataframe tbody tr th:only-of-type {\n",
       "        vertical-align: middle;\n",
       "    }\n",
       "\n",
       "    .dataframe tbody tr th {\n",
       "        vertical-align: top;\n",
       "    }\n",
       "\n",
       "    .dataframe thead th {\n",
       "        text-align: right;\n",
       "    }\n",
       "</style>\n",
       "<table border=\"1\" class=\"dataframe\">\n",
       "  <thead>\n",
       "    <tr style=\"text-align: right;\">\n",
       "      <th></th>\n",
       "      <th>Nome</th>\n",
       "      <th>Algoritmo</th>\n",
       "      <th>ROC_AUC Score</th>\n",
       "      <th>AUC Score</th>\n",
       "      <th>Acurácia</th>\n",
       "    </tr>\n",
       "  </thead>\n",
       "  <tbody>\n",
       "    <tr>\n",
       "      <th>0</th>\n",
       "      <td>modelo_v4</td>\n",
       "      <td>Gradient Boosting</td>\n",
       "      <td>0.598976</td>\n",
       "      <td>0.781494</td>\n",
       "      <td>0.911355</td>\n",
       "    </tr>\n",
       "  </tbody>\n",
       "</table>\n",
       "</div>"
      ],
      "text/plain": [
       "        Nome          Algoritmo ROC_AUC Score AUC Score  Acurácia\n",
       "0  modelo_v4  Gradient Boosting      0.598976  0.781494  0.911355"
      ]
     },
     "execution_count": 49,
     "metadata": {},
     "output_type": "execute_result"
    }
   ],
   "source": [
    "# Seleção do modelo com maior AUC Score, por se tratar de uma métrica global // Selection of the model with the highest AUC Score, as it is a global metric\n",
    "# O score AUC é o ideal para comparar modelos de diferentes algoritmos // The AUC score is ideal for comparing models from different algorithms\n",
    "\n",
    "df_best_model = df_models[df_models['AUC Score'] == df_models['AUC Score'].max()]\n",
    "df_best_model\n"
   ]
  },
  {
   "cell_type": "code",
   "execution_count": 50,
   "id": "5132ba2d",
   "metadata": {},
   "outputs": [],
   "source": [
    "# Salva o melhor modelo em disco\n",
    "df_best_model.to_csv('../models/best_model.csv')"
   ]
  },
  {
   "cell_type": "markdown",
   "id": "f9c97f8e",
   "metadata": {},
   "source": [
    "**Conclusão:** O melhor modelo encontrado foi o Gradient Boosting, que apresentou AUC Score de 0.782402.\n",
    "\n",
    "---\n",
    "**_Conclusion:_** _The best model found was Gradient Boosting, which presented an AUC Score of 0.782402._\n",
    "    \n"
   ]
  },
  {
   "cell_type": "markdown",
   "id": "fbb2911c",
   "metadata": {},
   "source": [
    "### Recuperação do melhor modelo treinado// _Recovery of the best trained model_"
   ]
  },
  {
   "cell_type": "code",
   "execution_count": 51,
   "id": "a1fc6b67",
   "metadata": {},
   "outputs": [
    {
     "name": "stdout",
     "output_type": "stream",
     "text": [
      "modelo_v4\n",
      "model_v4\n"
     ]
    }
   ],
   "source": [
    "# Recuperação do nome do melhor modelo\n",
    "model = df_best_model.Nome.to_string(index = False)\n",
    "print(model)\n",
    "\n",
    "# Nome do arquivo do melhor modelo\n",
    "best_model_file_name = 'model' + model[-3:]\n",
    "print(best_model_file_name)"
   ]
  },
  {
   "cell_type": "raw",
   "id": "910a787a",
   "metadata": {},
   "source": [
    "# Carga do melhor modelo do disco\n",
    "best_model = joblib.load(open(f'../{best_model_file_name}.pkl', 'rb'))\n",
    "best_model\n"
   ]
  },
  {
   "cell_type": "code",
   "execution_count": 55,
   "id": "de659288",
   "metadata": {},
   "outputs": [],
   "source": [
    "# Salva o melhor modelo em disco com o nome best_model\n",
    "save_model('best_model', best_model)"
   ]
  },
  {
   "cell_type": "code",
   "execution_count": null,
   "id": "127c9dba",
   "metadata": {},
   "outputs": [],
   "source": [
    "type(best_model)"
   ]
  },
  {
   "cell_type": "code",
   "execution_count": null,
   "id": "b4cca414",
   "metadata": {},
   "outputs": [],
   "source": []
  }
 ],
 "metadata": {
  "kernelspec": {
   "display_name": "Python 3 (ipykernel)",
   "language": "python",
   "name": "python3"
  },
  "language_info": {
   "codemirror_mode": {
    "name": "ipython",
    "version": 3
   },
   "file_extension": ".py",
   "mimetype": "text/x-python",
   "name": "python",
   "nbconvert_exporter": "python",
   "pygments_lexer": "ipython3",
   "version": "3.9.12"
  }
 },
 "nbformat": 4,
 "nbformat_minor": 5
}
